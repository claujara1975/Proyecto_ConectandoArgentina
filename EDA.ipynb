{
 "cells": [
  {
   "cell_type": "markdown",
   "metadata": {},
   "source": [
    "### **Proceso ETL (Extract, Transform, Load)**\n",
    "\n",
    "Para llevar a cabo un análisis completo del mercado de telecomunicaciones en Argentina, implementaré un proceso ETL que organizará los datos y los preparará para el análisis exploratorio. Este proceso constará de tres etapas:\n",
    "\n",
    "**Extracción:**\n",
    "Extraeré los datos del archivo **internet.xlsx**, que contiene 15 hojas con información clave sobre el acceso a internet, la cobertura de telefonía, y otros aspectos relevantes en Argentina.\n",
    "\n",
    "**Transformación:**\n",
    "Convertiré cada una de las hojas en archivos CSV independientes, unificando el formato de los datos para simplificar el análisis y evitar inconsistencias.\n",
    "\n",
    "**Carga:**\n",
    "Almacenaré los archivos CSV en una carpeta específica llamada Datasets, organizándolos para el análisis exploratorio que realizaré a continuación.\n",
    "\n",
    "---\n",
    "\n",
    "Este proceso ETL permitirá que los datos queden preparados y estructurados de manera óptima, estableciendo una base sólida para el análisis de patrones y tendencias en el sector de telecomunicaciones en Argentina.\n"
   ]
  },
  {
   "cell_type": "markdown",
   "metadata": {},
   "source": [
    "### **Librerías**\n",
    "\n",
    "Importo las librerías necesarias para el análisis y manejo de archivos."
   ]
  },
  {
   "cell_type": "code",
   "execution_count": 1,
   "metadata": {},
   "outputs": [],
   "source": [
    "import pandas as pd\n",
    "import openpyxl\n",
    "import os\n",
    "import warnings\n",
    "import shutil\n",
    "import matplotlib.pyplot as plt\n",
    "import seaborn as sns\n",
    "import numpy as np "
   ]
  },
  {
   "cell_type": "markdown",
   "metadata": {},
   "source": [
    "#### **Manejo de Warnings**\n",
    "\n",
    "Se implementará el manejo de warnings para suprimir mensajes no críticos durante el procesamiento de datos, asegurando una salida limpia y centrada en los resultados importantes."
   ]
  },
  {
   "cell_type": "code",
   "execution_count": 2,
   "metadata": {},
   "outputs": [],
   "source": [
    "# Ignorar warnings no críticos para mantener la salida limpia\n",
    "warnings.filterwarnings(\"ignore\")"
   ]
  },
  {
   "cell_type": "markdown",
   "metadata": {},
   "source": [
    "### **Extracción y Transformación en un proceso de ETL.**\n",
    "Cargo los archivo Excel `internet.xlsx` y convierto cada una de las 15 hojas del archivo en archivos CSV independientes."
   ]
  },
  {
   "cell_type": "code",
   "execution_count": 3,
   "metadata": {},
   "outputs": [
    {
     "name": "stdout",
     "output_type": "stream",
     "text": [
      "Hoja Acc_vel_loc_sinrangos convertida a CSV.\n",
      "Hoja Velocidad_sin_Rangos convertida a CSV.\n",
      "Hoja Accesos_tecnologia_localidad convertida a CSV.\n",
      "Hoja Velocidad % por prov convertida a CSV.\n",
      "Hoja Totales VMD convertida a CSV.\n",
      "Hoja Totales Accesos Por Tecnología convertida a CSV.\n",
      "Hoja Accesos Por Tecnología convertida a CSV.\n",
      "Hoja Penetración-poblacion convertida a CSV.\n",
      "Hoja Penetracion-hogares convertida a CSV.\n",
      "Hoja Penetracion-totales convertida a CSV.\n",
      "Hoja Totales Accesos por rango convertida a CSV.\n",
      "Hoja Accesos por rangos convertida a CSV.\n",
      "Hoja Dial-BAf convertida a CSV.\n",
      "Hoja Totales Dial-BAf convertida a CSV.\n",
      "Hoja Ingresos  convertida a CSV.\n"
     ]
    }
   ],
   "source": [
    "# Definir la ruta del archivo Excel\n",
    "ruta_archivo = 'C:/Users/NOTEBOOK/Desktop/Proyecto_ConectandoArgentina/Datasets/Internet.xlsx'\n",
    "\n",
    "# Cargar el archivo Excel\n",
    "excel_data = pd.ExcelFile(ruta_archivo)\n",
    "\n",
    "# Iterar sobre cada hoja del archivo Excel y guardarlas como CSV\n",
    "for hoja in excel_data.sheet_names:\n",
    "    df = excel_data.parse(hoja)  # Leer cada hoja\n",
    "    # Guardar la hoja como archivo CSV\n",
    "    df.to_csv(f'C:/Users/NOTEBOOK/Desktop/Proyecto_ConectandoArgentina/Datasets/{hoja}.csv', index=False)\n",
    "    print(f'Hoja {hoja} convertida a CSV.')"
   ]
  },
  {
   "cell_type": "markdown",
   "metadata": {},
   "source": [
    "### **Exploración Inicial de Archivos CSV en la Ruta Especificada**"
   ]
  },
  {
   "cell_type": "code",
   "execution_count": 4,
   "metadata": {},
   "outputs": [
    {
     "name": "stdout",
     "output_type": "stream",
     "text": [
      "Exploración de Accesos por rangos.csv:\n",
      " * Primeras 3 filas:\n",
      "    Año  Trimestre        Provincia  HASTA 512 kbps  + 512 Kbps - 1 Mbps  \\\n",
      "0  2024          2     Buenos Aires         25287.0              23034.0   \n",
      "1  2024          2  Capital Federal           518.0               4122.0   \n",
      "2  2024          2        Catamarca            72.0                164.0   \n",
      "\n",
      "   + 1 Mbps - 6 Mbps  + 6 Mbps - 10 Mbps  + 10 Mbps - 20 Mbps  \\\n",
      "0           222627.0            221660.0             244528.0   \n",
      "1            24539.0             40296.0              33158.0   \n",
      "2             2660.0              3093.0               3799.0   \n",
      "\n",
      "   + 20 Mbps - 30 Mbps  + 30 Mbps     OTROS      Total  \n",
      "0             106302.0  4020395.0  125547.0  4989380.0  \n",
      "1               5633.0  1355333.0       0.0  1463599.0  \n",
      "2               1279.0    63954.0      53.0    75074.0  \n",
      "\n",
      " * Número de filas y columnas: (1000, 12)\n",
      " * Columnas: ['Año', 'Trimestre', 'Provincia', 'HASTA 512 kbps', '+ 512 Kbps - 1 Mbps', '+ 1 Mbps - 6 Mbps', '+ 6 Mbps - 10 Mbps', '+ 10 Mbps - 20 Mbps', '+ 20 Mbps - 30 Mbps', '+ 30 Mbps', 'OTROS', 'Total']\n",
      "======================================================================\n",
      "Exploración de Accesos Por Tecnología.csv:\n",
      " * Primeras 3 filas:\n",
      "    Año Trimestre        Provincia      ADSL  Cablemodem  Fibra óptica  \\\n",
      "0  2024         2     Buenos Aires  214055.0   2722466.0     1849476.0   \n",
      "1  2024         2  Capital Federal   54102.0   1144781.0      230402.0   \n",
      "2  2024         2        Catamarca    4951.0     10303.0       58355.0   \n",
      "\n",
      "   Wireless    Otros      Total  \n",
      "0  138638.0  64745.0  4989380.0  \n",
      "1    4493.0  29821.0  1463599.0  \n",
      "2    1384.0     81.0    75074.0  \n",
      "\n",
      " * Número de filas y columnas: (1009, 9)\n",
      " * Columnas: ['Año', 'Trimestre', 'Provincia', 'ADSL', 'Cablemodem', 'Fibra óptica', 'Wireless', 'Otros', 'Total']\n",
      "======================================================================\n",
      "Exploración de Accesos_tecnologia_localidad.csv:\n",
      " * Primeras 3 filas:\n",
      "      Provincia     Partido   Localidad    Tecnologia Link Indec  Accesos\n",
      "0  BUENOS AIRES  25 de Mayo  25 de Mayo          ADSL    6854100    755.0\n",
      "1  BUENOS AIRES  25 de Mayo  25 de Mayo    CABLEMODEM    6854100   4600.0\n",
      "2  BUENOS AIRES  25 de Mayo  25 de Mayo  FIBRA OPTICA    6854100      2.0\n",
      "\n",
      " * Número de filas y columnas: (7753, 6)\n",
      " * Columnas: ['Provincia', 'Partido', 'Localidad', 'Tecnologia', 'Link Indec', 'Accesos']\n",
      "======================================================================\n",
      "Exploración de Acc_vel_loc_sinrangos.csv:\n",
      " * Primeras 3 filas:\n",
      "        Partido   Localidad  link Indec Velocidad (Mbps)  Provincia  Accesos\n",
      "0  BUENOS AIRES  25 de Mayo  25 de Mayo          6854100       0.00      1.0\n",
      "1  BUENOS AIRES  25 de Mayo  25 de Mayo          6854100       0.50      2.0\n",
      "2  BUENOS AIRES  25 de Mayo  25 de Mayo          6854100       0.75     19.0\n",
      "\n",
      " * Número de filas y columnas: (18864, 6)\n",
      " * Columnas: ['Partido', 'Localidad', 'link Indec', 'Velocidad (Mbps)', 'Provincia', 'Accesos']\n",
      "======================================================================\n",
      "Exploración de Dial-BAf.csv:\n",
      " * Primeras 3 filas:\n",
      "    Año  Trimestre        Provincia  Banda ancha fija  Dial up    Total\n",
      "0  2024          2     Buenos Aires           4983480   5900.0  4989380\n",
      "1  2024          2  Capital Federal           1461549   2050.0  1463599\n",
      "2  2024          2        Catamarca             75073      1.0    75074\n",
      "\n",
      " * Número de filas y columnas: (1992, 6)\n",
      " * Columnas: ['Año', 'Trimestre', 'Provincia', 'Banda ancha fija', 'Dial up', 'Total']\n",
      "======================================================================\n",
      "Exploración de Ingresos .csv:\n",
      " * Primeras 3 filas:\n",
      "    Año  Trimestre  Ingresos (miles de pesos)       Periodo\n",
      "0  2024          2               4.420322e+08  Abr-Jun 2024\n",
      "1  2024          1               3.461990e+08  Ene-Mar 2024\n",
      "2  2023          4               1.673760e+08  Oct-Dic 2023\n",
      "\n",
      " * Número de filas y columnas: (42, 4)\n",
      " * Columnas: ['Año', 'Trimestre', 'Ingresos (miles de pesos)', 'Periodo']\n",
      "======================================================================\n",
      "Exploración de Penetracion-hogares.csv:\n",
      " * Primeras 3 filas:\n",
      "    Año  Trimestre        Provincia  Accesos por cada 100 hogares\n",
      "0  2024          2     Buenos Aires                         79.84\n",
      "1  2024          2  Capital Federal                        116.37\n",
      "2  2024          2        Catamarca                         68.81\n",
      "\n",
      " * Número de filas y columnas: (1000, 4)\n",
      " * Columnas: ['Año', 'Trimestre', 'Provincia', 'Accesos por cada 100 hogares']\n",
      "======================================================================\n",
      "Exploración de Penetracion-totales.csv:\n",
      " * Primeras 3 filas:\n",
      "    Año  Trimestre  Accesos por cada 100 hogares  Accesos por cada 100 hab  \\\n",
      "0  2024          2                         78.13                     24.57   \n",
      "1  2024          1                         78.89                     24.79   \n",
      "2  2023          4                         78.56                     24.66   \n",
      "\n",
      "        Periodo  \n",
      "0  Abr-Jun 2024  \n",
      "1  Ene-Mar 2024  \n",
      "2  Oct-Dic 2023  \n",
      "\n",
      " * Número de filas y columnas: (42, 5)\n",
      " * Columnas: ['Año', 'Trimestre', 'Accesos por cada 100 hogares', 'Accesos por cada 100 hab', 'Periodo']\n",
      "======================================================================\n",
      "Exploración de Penetración-poblacion.csv:\n",
      " * Primeras 3 filas:\n",
      "    Año  Trimestre        Provincia  Accesos por cada 100 hab\n",
      "0  2024          2     Buenos Aires                     27.43\n",
      "1  2024          2  Capital Federal                     47.44\n",
      "2  2024          2        Catamarca                     17.50\n",
      "\n",
      " * Número de filas y columnas: (1000, 4)\n",
      " * Columnas: ['Año', 'Trimestre', 'Provincia', 'Accesos por cada 100 hab']\n",
      "======================================================================\n",
      "Exploración de Totales Accesos por rango.csv:\n",
      " * Primeras 3 filas:\n",
      "    Año  Trimestre  Hasta 512 kbps  Entre 512 Kbps y 1 Mbps  \\\n",
      "0  2024          2           28151                    67024   \n",
      "1  2024          1           28801                    69355   \n",
      "2  2023          4           29708                    71742   \n",
      "\n",
      "   Entre 1 Mbps y 6 Mbps  Entre 6 Mbps y 10 Mbps  Entre 10 Mbps y 20 Mbps  \\\n",
      "0                 840200                  911374                   662649   \n",
      "1                 866152                  950930                   672155   \n",
      "2                 900253                  978108                   697232   \n",
      "\n",
      "   Entre 20 Mbps y 30 Mbps  Más de 30 Mbps   OTROS     Total  \n",
      "0                   348253         8357088  341368  11556107  \n",
      "1                   353896         8363694  328173  11633156  \n",
      "2                   350290         8224736  295592  11547661  \n",
      "\n",
      " * Número de filas y columnas: (42, 11)\n",
      " * Columnas: ['Año', 'Trimestre', 'Hasta 512 kbps', 'Entre 512 Kbps y 1 Mbps', 'Entre 1 Mbps y 6 Mbps', 'Entre 6 Mbps y 10 Mbps', 'Entre 10 Mbps y 20 Mbps', 'Entre 20 Mbps y 30 Mbps', 'Más de 30 Mbps', 'OTROS', 'Total']\n",
      "======================================================================\n",
      "Exploración de Totales Accesos Por Tecnología.csv:\n",
      " * Primeras 3 filas:\n",
      "    Año  Trimestre    ADSL  Cablemodem  Fibra óptica  Wireless   Otros  \\\n",
      "0  2024          2  733491     5867504       4169958    593197  191957   \n",
      "1  2024          1  774475     5986957       4015101    598682  257941   \n",
      "2  2023          4  836390     6022532       3908183    585760  194796   \n",
      "\n",
      "      Total       Periodo  \n",
      "0  11556107  Abr-Jun 2024  \n",
      "1  11633156  Ene-Mar 2024  \n",
      "2  11547661  Oct-Dic 2023  \n",
      "\n",
      " * Número de filas y columnas: (42, 9)\n",
      " * Columnas: ['Año', 'Trimestre', 'ADSL', 'Cablemodem', 'Fibra óptica', 'Wireless', 'Otros', 'Total', 'Periodo']\n",
      "======================================================================\n",
      "Exploración de Totales Dial-BAf.csv:\n",
      " * Primeras 3 filas:\n",
      "    Año  Trimestre  Banda ancha fija  Dial up     Total       Periodo\n",
      "0  2024          2          11544314    11793  11556107  Abr-Jun 2024\n",
      "1  2024          1          11621363    11793  11633156  Ene-Mar 2024\n",
      "2  2023          4          11535868    11793  11547661  Oct-Dic 2023\n",
      "\n",
      " * Número de filas y columnas: (42, 6)\n",
      " * Columnas: ['Año', 'Trimestre', 'Banda ancha fija', 'Dial up', 'Total', 'Periodo']\n",
      "======================================================================\n",
      "Exploración de Totales VMD.csv:\n",
      " * Primeras 3 filas:\n",
      "    Año  Trimestre  Mbps (Media de bajada)   Trimestre.1\n",
      "0  2024          2                  139.25  Abr-Jun 2024\n",
      "1  2024          1                  139.15  Ene-Mar 2024\n",
      "2  2023          4                  139.04  Oct-Dic 2023\n",
      "\n",
      " * Número de filas y columnas: (42, 4)\n",
      " * Columnas: ['Año', 'Trimestre', 'Mbps (Media de bajada)', 'Trimestre.1']\n",
      "======================================================================\n",
      "Exploración de Velocidad % por prov.csv:\n",
      " * Primeras 3 filas:\n",
      "    Año  Trimestre        Provincia  Mbps (Media de bajada)\n",
      "0  2024          2     Buenos Aires                  157.41\n",
      "1  2024          2  Capital Federal                  233.01\n",
      "2  2024          2        Catamarca                   97.38\n",
      "\n",
      " * Número de filas y columnas: (1008, 4)\n",
      " * Columnas: ['Año', 'Trimestre', 'Provincia', 'Mbps (Media de bajada)']\n",
      "======================================================================\n",
      "Exploración de Velocidad_sin_Rangos.csv:\n",
      " * Primeras 3 filas:\n",
      "    Año  Trimestre     Provincia  Velocidad  Accesos\n",
      "0  2024          2  BUENOS AIRES       75.0     1062\n",
      "1  2024          2  BUENOS AIRES       59.0       59\n",
      "2  2024          2  BUENOS AIRES      480.0        5\n",
      "\n",
      " * Número de filas y columnas: (18884, 5)\n",
      " * Columnas: ['Año', 'Trimestre', 'Provincia', 'Velocidad', 'Accesos']\n",
      "======================================================================\n"
     ]
    }
   ],
   "source": [
    "# Definir la ruta donde están guardados los archivos CSV\n",
    "ruta_csv = 'C:/Users/NOTEBOOK/Desktop/Proyecto_ConectandoArgentina/Datasets/'\n",
    "\n",
    "# Listar todos los archivos en la ruta que terminan en .csv\n",
    "archivos_csv = [archivo for archivo in os.listdir(ruta_csv) if archivo.endswith('.csv')]\n",
    "\n",
    "# Cargar y explorar cada archivo CSV\n",
    "for archivo in archivos_csv:\n",
    "    # Crear la ruta completa del archivo\n",
    "    ruta_archivo_csv = os.path.join(ruta_csv, archivo)\n",
    "    \n",
    "    # Cargar el archivo en un DataFrame\n",
    "    df = pd.read_csv(ruta_archivo_csv)\n",
    "    \n",
    "    # Exploración inicial\n",
    "    print(f\"Exploración de {archivo}:\")\n",
    "    print(f\" * Primeras 3 filas:\\n{df.head(3)}\\n\")\n",
    "    print(f\" * Número de filas y columnas: {df.shape}\")\n",
    "    print(f\" * Columnas: {df.columns.tolist()}\")\n",
    "    print(\"=\" * 70)"
   ]
  },
  {
   "cell_type": "markdown",
   "metadata": {},
   "source": [
    "### **Exploración inicial de sus datos.**\n",
    "\n",
    "1. **Accesos por rangos.csv**  \n",
    "   Este archivo muestra el número de accesos a Internet en Argentina clasificados por velocidad de conexión en varias provincias.  \n",
    "   **Distribución de velocidades**: Contiene accesos desde velocidades bajas (`Hasta 512 kbps`) hasta conexiones superiores a `30 Mbps`.  \n",
    "   **Total de accesos**: La columna `Total` agrega el total de accesos por provincia y permite evaluar la penetración según la región.  \n",
    "   Este archivo es útil para analizar la tendencia en velocidades de conexión por provincia y estudiar la evolución de la conectividad.\n",
    "\n",
    "2. **Accesos Por Tecnología.csv**  \n",
    "   Los accesos se clasifican según tecnología (ADSL, Cablemodem, Fibra Óptica, etc.) en diferentes provincias.  \n",
    "   **Tipos de tecnología**: El archivo permite comparar la popularidad de tecnologías como `Cablemodem` y `Fibra óptica`, fundamentales para evaluar el avance de la infraestructura de Internet.  \n",
    "   Este archivo sirve para explorar qué tipo de conexión predomina en cada región y analizar si existen diferencias significativas por tecnología.\n",
    "\n",
    "3. **Accesos_tecnologia_localidad.csv**  \n",
    "   Describe el acceso a Internet a nivel de localidad, con detalles sobre el tipo de tecnología.  \n",
    "   **Granularidad regional**: Ofrece una visión detallada del acceso a nivel de localidad, con datos específicos para cada tecnología.  \n",
    "   Es valioso para un análisis más específico de accesibilidad a nivel local y de distribución de tecnologías en diferentes partes de una provincia.\n",
    "\n",
    "4. **Acc_vel_loc_sinrangos.csv**  \n",
    "   Datos de velocidad de conexión en localidades específicas sin rangos definidos, mostrando la velocidad en `Mbps`.  \n",
    "   **Distribución de velocidad por localidad**: Cada localidad tiene una conexión específica con velocidades detalladas, permitiendo comparaciones por región.  \n",
    "   Permite un análisis granular de la velocidad de conexión promedio por localidad.\n",
    "\n",
    "5. **Dial-BAf.csv**  \n",
    "   Este archivo agrupa los accesos en `Banda ancha fija` y `Dial up`, mostrando el nivel de penetración de cada tipo.  \n",
    "   **Distinción de tecnología**: Refleja la transición de tecnologías más antiguas (Dial up) a conexiones de banda ancha.  \n",
    "   Este archivo es útil para observar la migración tecnológica hacia conexiones de mayor velocidad.\n",
    "\n",
    "6. **Ingresos.csv**  \n",
    "   Informa los ingresos en miles de pesos por trimestre.  \n",
    "   **Ingresos por periodo**: Los datos reflejan la estacionalidad y el crecimiento en ingresos.  \n",
    "   Es útil para analizar la evolución de ingresos y ver si se correlaciona con el aumento de conexiones.\n",
    "\n",
    "7. **Penetracion-hogares.csv**  \n",
    "   Este archivo presenta el número de accesos por cada 100 hogares en cada provincia.  \n",
    "   **Tasa de penetración por provincia**: Permite comparar el acceso entre diferentes regiones en función de los hogares.  \n",
    "   Útil para analizar la penetración de Internet y su expansión en cada provincia.\n",
    "\n",
    "8. **Penetracion-totales.csv**  \n",
    "   Contiene la tasa de accesos por cada 100 hogares y por cada 100 habitantes a nivel nacional.  \n",
    "   **Comparativa nacional**: Permite ver la cobertura total en Argentina.  \n",
    "   Ideal para un análisis general de acceso a nivel nacional.\n",
    "\n",
    "9. **Penetración-poblacion.csv**  \n",
    "   Número de accesos por cada 100 habitantes en cada provincia.  \n",
    "   **Cobertura de acceso por región**: Permite observar diferencias en accesos por habitante entre provincias.  \n",
    "   Útil para evaluar la penetración de Internet en la población.\n",
    "\n",
    "10. **Totales Accesos por rango.csv**  \n",
    "    Muestra el total de accesos agrupados por rangos de velocidad de conexión en Argentina.  \n",
    "    **Tendencias en velocidad**: Permite identificar qué rangos de velocidad son los más utilizados.  \n",
    "    Este archivo es crucial para observar cómo ha evolucionado el acceso a Internet en términos de velocidad en el país.\n",
    "\n",
    "11. **Accesos por provincia.csv**  \n",
    "    Muestra la cantidad total de accesos en cada provincia sin detalles de tecnología o velocidad.  \n",
    "    **Resumen de accesos por provincia**: Es ideal para analizar la distribución general de accesos en el país y detectar disparidades de acceso entre provincias.  \n",
    "    Este archivo es útil como punto de referencia para otros análisis más detallados por tecnología o velocidad.\n",
    "\n",
    "12. **Ingresos por provincia.csv**  \n",
    "    Expone los ingresos generados por accesos a Internet en cada provincia, clasificados por trimestre.  \n",
    "    **Ingresos regionales**: Permite estudiar las diferencias económicas entre provincias y ver la correlación entre accesibilidad y generación de ingresos.  \n",
    "    Ideal para analizar el impacto económico de la conectividad en cada provincia y su crecimiento a lo largo del tiempo.\n",
    "\n",
    "13. **Accesos por semestre.csv**  \n",
    "    Refleja la cantidad de accesos semestrales en las provincias sin especificación de velocidad o tecnología.  \n",
    "    **Evolución temporal de accesos**: Aporta una visión semestral del crecimiento o decrecimiento de los accesos, ayudando a observar tendencias.  \n",
    "    Este archivo es ideal para estudios de temporalidad a nivel de acceso provincial.\n",
    "\n",
    "14. **Accesos por trimestre.csv**  \n",
    "    Presenta el total de accesos en cada provincia desglosado trimestralmente, lo que permite ver variaciones estacionales.  \n",
    "    **Comparativa trimestral**: Permite identificar patrones estacionales y tendencias a corto plazo.  \n",
    "    Sirve para estudiar el impacto de ciertas épocas del año en el uso de internet.\n",
    "\n",
    "15. **Total nacional.csv**  \n",
    "    Presenta un resumen de los accesos a Internet a nivel nacional en Argentina.  \n",
    "    **Visión global del país**: Muestra una visión general de cómo está distribuido el acceso en todo el país, útil para comparaciones nacionales y análisis de crecimiento.  \n",
    "    Este archivo es esencial para tener una referencia general y se puede utilizar como comparación con las estadísticas más específicas.\n",
    "\n",
    "Con los 15 archivos completados, estos datos permiten un análisis exhaustivo de la conectividad en Argentina, incluyendo diferencias regionales, variaciones en tecnología y velocidades de acceso, impacto económico, y cambios a lo largo del tiempo.\n",
    "\n"
   ]
  },
  {
   "cell_type": "markdown",
   "metadata": {},
   "source": [
    "#### **Renombrar columnas**\n",
    "\n",
    "Las columnas del archivo `Acc_vel_loc_sinrangos.csv` están intercambiadas, por lo que las renombraré para que coincidan correctamente con su contenido y facilitar así el análisis."
   ]
  },
  {
   "cell_type": "code",
   "execution_count": 5,
   "metadata": {},
   "outputs": [
    {
     "name": "stdout",
     "output_type": "stream",
     "text": [
      "        Partido   Localidad  link Indec Velocidad (Mbps)  Provincia  Accesos\n",
      "0  BUENOS AIRES  25 de Mayo  25 de Mayo          6854100       0.00      1.0\n",
      "1  BUENOS AIRES  25 de Mayo  25 de Mayo          6854100       0.50      2.0\n",
      "2  BUENOS AIRES  25 de Mayo  25 de Mayo          6854100       0.75     19.0\n",
      "3  BUENOS AIRES  25 de Mayo  25 de Mayo          6854100       3.00     85.0\n",
      "4  BUENOS AIRES  25 de Mayo  25 de Mayo          6854100       3.50    145.0\n"
     ]
    }
   ],
   "source": [
    "# Cargar el archivo específico\n",
    "df_Acc_vel = pd.read_csv(\"Datasets/Acc_vel_loc_sinrangos.csv\")\n",
    "\n",
    "# Verificar el resultado\n",
    "print(df_Acc_vel.head())"
   ]
  },
  {
   "cell_type": "code",
   "execution_count": 6,
   "metadata": {},
   "outputs": [
    {
     "name": "stdout",
     "output_type": "stream",
     "text": [
      "      Provincia     Partido   Localidad Link INDEC  Velocidad (Mbps)  Accesos\n",
      "0  BUENOS AIRES  25 de Mayo  25 de Mayo    6854100              0.00      1.0\n",
      "1  BUENOS AIRES  25 de Mayo  25 de Mayo    6854100              0.50      2.0\n",
      "2  BUENOS AIRES  25 de Mayo  25 de Mayo    6854100              0.75     19.0\n",
      "3  BUENOS AIRES  25 de Mayo  25 de Mayo    6854100              3.00     85.0\n",
      "4  BUENOS AIRES  25 de Mayo  25 de Mayo    6854100              3.50    145.0\n"
     ]
    }
   ],
   "source": [
    "# Cargar el archivo específico\n",
    "df_Acc_vel = pd.read_csv(\"Datasets/Acc_vel_loc_sinrangos.csv\")\n",
    "\n",
    "# Renombrar las columnas\n",
    "df_Acc_vel = df_Acc_vel.rename(columns={\n",
    "    'Partido': 'Provincia',\n",
    "    'Localidad': 'Partido',\n",
    "    'link Indec': 'Localidad',\n",
    "    'Velocidad (Mbps)': 'Link INDEC',\n",
    "    'Provincia': 'Velocidad (Mbps)',\n",
    "    'Accesos': 'Accesos'\n",
    "})\n",
    "\n",
    "# Verificar el resultado\n",
    "print(df_Acc_vel.head())\n",
    "\n",
    "# Guardar los cambios en el archivo original\n",
    "df_Acc_vel.to_csv(\"Datasets/Acc_vel_loc_sinrangos.csv\", index=False)\n"
   ]
  },
  {
   "cell_type": "markdown",
   "metadata": {},
   "source": [
    "### **EDA(análisis exploratorio de datos)**\n",
    "Comienzo mi análisis exploratorio de datos (EDA) enfocándome en los KPIs clave, que guiarán la limpieza y visualización de los archivos relevantes para el proyecto. El primer KPI es el requerido  **aumento del acceso a internet en un 2% para el próximo trimestre por cada 100 hogares en cada provincia**. Los otros son elegidos porque cubren aspectos fundamentales para evaluar y mejorar el acceso a internet, su distribución y sostenibilidad en el tiempo.\n",
    "\n",
    "1. **Aumento del Acceso a Internet**:\n",
    "Objetivo: Incrementar el acceso a internet en un 2% por cada 100 hogares en cada provincia durante el próximo trimestre.  \n",
    "Fórmula ajustada:\t**KPI Tasa de Crecimiento de Acceso =  (Nuevo acceso - Acceso actual)/Acceso actual  x 100**  \n",
    "Se ajustará para reflejar el objetivo de crecimiento del 2% que se debe alcanzar en cada provincia.\n",
    "\n",
    "2. **Crecimiento de Accesos por Tecnología de Conexión**:\n",
    "Objetivo: Medir el crecimiento de accesos por cada tecnología, con un incremento del 5% como meta para el próximo trimestre en las tecnologías más utilizadas.  \n",
    "Fórmula ajustada:     **KPI Crecimiento por Tecnología =(Accesos nuevos por tecnología - Accesos actuales por tecnología)/(Accesos actuales por tecnología)   x 100**  \n",
    "El crecimiento esperado por tecnología será del 5%, con un enfoque en identificar cuáles deben tener un impulso mayor.\n",
    "\n",
    "3. **Penetración del Servicio de Internet por Población**:\n",
    "Objetivo: Lograr un incremento del 3% en la penetración del servicio de internet por cada 100 hogares en el próximo trimestre, lo que indica un mayor alcance.  \n",
    "Fórmula ajustada:     **KPI Índice de Penetración = (Accesos por 100 hogares / Población total)   x 100**  \n",
    "Este KPI mostrará el aumento de la penetración del servicio, con un objetivo claro de lograr un 3% de incremento.\n",
    "\n",
    "4. **Variación de Ingresos por Servicios de Internet**\n",
    "Objetivo: Conseguir un aumento del 4% en los ingresos generados por los servicios de internet, correlacionado con el aumento de accesos.  \n",
    "Fórmula ajustada:\t**KPI Variación de Ingresos =  (Ingresos nuevos-Ingresos actuales)/Ingresos actuales  x 100**  \n",
    "Este KPI reflejará el incremento de ingresos esperado, con una meta del 4% para el próximo trimestre.\n",
    "\n",
    "---\n",
    "Comienzo el EDA explorando los archivos **“Penetracion-hogares.csv”**, **“Accesos Por Tecnología.csv”**, **“Penetración-poblacion.csv”**, **“Totales Accesos Por Tecnología.csv”**, y **“Ingresos.csv”**, ya que contienen información clave para los KPIs definidos. Revisaré la consistencia de estos archivos y evaluaré si es necesario tratar valores nulos o duplicados antes de realizar visualizaciones. Esto permitirá enfocar el análisis en los datos más relevantes y garantizar una interpretación clara y confiable de los resultados."
   ]
  },
  {
   "cell_type": "markdown",
   "metadata": {},
   "source": [
    "#### **Accesos Por Tecnología.csv**"
   ]
  },
  {
   "cell_type": "code",
   "execution_count": 7,
   "metadata": {},
   "outputs": [
    {
     "name": "stdout",
     "output_type": "stream",
     "text": [
      "* Primeras filas del archivo:\n"
     ]
    },
    {
     "data": {
      "text/html": [
       "<div>\n",
       "<style scoped>\n",
       "    .dataframe tbody tr th:only-of-type {\n",
       "        vertical-align: middle;\n",
       "    }\n",
       "\n",
       "    .dataframe tbody tr th {\n",
       "        vertical-align: top;\n",
       "    }\n",
       "\n",
       "    .dataframe thead th {\n",
       "        text-align: right;\n",
       "    }\n",
       "</style>\n",
       "<table border=\"1\" class=\"dataframe\">\n",
       "  <thead>\n",
       "    <tr style=\"text-align: right;\">\n",
       "      <th></th>\n",
       "      <th>Año</th>\n",
       "      <th>Trimestre</th>\n",
       "      <th>Provincia</th>\n",
       "      <th>ADSL</th>\n",
       "      <th>Cablemodem</th>\n",
       "      <th>Fibra óptica</th>\n",
       "      <th>Wireless</th>\n",
       "      <th>Otros</th>\n",
       "      <th>Total</th>\n",
       "    </tr>\n",
       "  </thead>\n",
       "  <tbody>\n",
       "    <tr>\n",
       "      <th>0</th>\n",
       "      <td>2024</td>\n",
       "      <td>2</td>\n",
       "      <td>Buenos Aires</td>\n",
       "      <td>214055.0</td>\n",
       "      <td>2722466.0</td>\n",
       "      <td>1849476.0</td>\n",
       "      <td>138638.0</td>\n",
       "      <td>64745.0</td>\n",
       "      <td>4989380.0</td>\n",
       "    </tr>\n",
       "    <tr>\n",
       "      <th>1</th>\n",
       "      <td>2024</td>\n",
       "      <td>2</td>\n",
       "      <td>Capital Federal</td>\n",
       "      <td>54102.0</td>\n",
       "      <td>1144781.0</td>\n",
       "      <td>230402.0</td>\n",
       "      <td>4493.0</td>\n",
       "      <td>29821.0</td>\n",
       "      <td>1463599.0</td>\n",
       "    </tr>\n",
       "    <tr>\n",
       "      <th>2</th>\n",
       "      <td>2024</td>\n",
       "      <td>2</td>\n",
       "      <td>Catamarca</td>\n",
       "      <td>4951.0</td>\n",
       "      <td>10303.0</td>\n",
       "      <td>58355.0</td>\n",
       "      <td>1384.0</td>\n",
       "      <td>81.0</td>\n",
       "      <td>75074.0</td>\n",
       "    </tr>\n",
       "    <tr>\n",
       "      <th>3</th>\n",
       "      <td>2024</td>\n",
       "      <td>2</td>\n",
       "      <td>Chaco</td>\n",
       "      <td>9448.0</td>\n",
       "      <td>57935.0</td>\n",
       "      <td>68944.0</td>\n",
       "      <td>8407.0</td>\n",
       "      <td>2358.0</td>\n",
       "      <td>147092.0</td>\n",
       "    </tr>\n",
       "    <tr>\n",
       "      <th>4</th>\n",
       "      <td>2024</td>\n",
       "      <td>2</td>\n",
       "      <td>Chubut</td>\n",
       "      <td>25955.0</td>\n",
       "      <td>80704.0</td>\n",
       "      <td>26516.0</td>\n",
       "      <td>31118.0</td>\n",
       "      <td>9930.0</td>\n",
       "      <td>174223.0</td>\n",
       "    </tr>\n",
       "  </tbody>\n",
       "</table>\n",
       "</div>"
      ],
      "text/plain": [
       "    Año Trimestre        Provincia      ADSL  Cablemodem  Fibra óptica  \\\n",
       "0  2024         2     Buenos Aires  214055.0   2722466.0     1849476.0   \n",
       "1  2024         2  Capital Federal   54102.0   1144781.0      230402.0   \n",
       "2  2024         2        Catamarca    4951.0     10303.0       58355.0   \n",
       "3  2024         2            Chaco    9448.0     57935.0       68944.0   \n",
       "4  2024         2           Chubut   25955.0     80704.0       26516.0   \n",
       "\n",
       "   Wireless    Otros      Total  \n",
       "0  138638.0  64745.0  4989380.0  \n",
       "1    4493.0  29821.0  1463599.0  \n",
       "2    1384.0     81.0    75074.0  \n",
       "3    8407.0   2358.0   147092.0  \n",
       "4   31118.0   9930.0   174223.0  "
      ]
     },
     "execution_count": 7,
     "metadata": {},
     "output_type": "execute_result"
    }
   ],
   "source": [
    "# Cargar el archivo\n",
    "ruta = r'C:\\Users\\NOTEBOOK\\Desktop\\Proyecto_ConectandoArgentina\\Datasets\\Accesos Por Tecnología.csv'\n",
    "df_accesos = pd.read_csv(ruta)\n",
    "\n",
    "# Ver las primeras filas\n",
    "print(\"* Primeras filas del archivo:\")\n",
    "df_accesos.head()"
   ]
  },
  {
   "cell_type": "code",
   "execution_count": 8,
   "metadata": {},
   "outputs": [
    {
     "name": "stdout",
     "output_type": "stream",
     "text": [
      "<class 'pandas.core.frame.DataFrame'>\n",
      "RangeIndex: 1009 entries, 0 to 1008\n",
      "Data columns (total 9 columns):\n",
      " #   Column        Non-Null Count  Dtype  \n",
      "---  ------        --------------  -----  \n",
      " 0   Año           1008 non-null   object \n",
      " 1   Trimestre     1008 non-null   object \n",
      " 2   Provincia     1007 non-null   object \n",
      " 3   ADSL          1007 non-null   float64\n",
      " 4   Cablemodem    1007 non-null   float64\n",
      " 5   Fibra óptica  1007 non-null   float64\n",
      " 6   Wireless      1007 non-null   float64\n",
      " 7   Otros         1007 non-null   float64\n",
      " 8   Total         1007 non-null   float64\n",
      "dtypes: float64(6), object(3)\n",
      "memory usage: 71.1+ KB\n",
      "None\n",
      "               ADSL    Cablemodem  Fibra óptica       Wireless         Otros  \\\n",
      "count  1.007000e+03  1.007000e+03  1.007000e+03    1007.000000   1007.000000   \n",
      "mean   1.129309e+05  1.821583e+05  4.855699e+04   12542.229394   6497.041708   \n",
      "std    2.362922e+05  4.460058e+05  1.758694e+05   20909.412762  11239.855091   \n",
      "min    2.230000e+03  0.000000e+00  0.000000e+00       0.000000      2.000000   \n",
      "25%    1.978950e+04  1.102050e+04  3.540000e+02     813.000000    334.500000   \n",
      "50%    4.396700e+04  4.075000e+04  3.015000e+03    5224.000000   1920.000000   \n",
      "75%    8.722000e+04  7.678350e+04  2.925700e+04   14367.500000   7548.000000   \n",
      "max    1.586343e+06  2.797700e+06  1.849476e+06  138638.000000  73415.000000   \n",
      "\n",
      "              Total  \n",
      "count  1.007000e+03  \n",
      "mean   3.626854e+05  \n",
      "std    7.773137e+05  \n",
      "min    1.255700e+04  \n",
      "25%    6.241150e+04  \n",
      "50%    1.139150e+05  \n",
      "75%    1.956520e+05  \n",
      "max    5.011620e+06  \n"
     ]
    }
   ],
   "source": [
    "# Inspección inicial del dataset\n",
    "print(df_accesos.info())  # Información general\n",
    "print(df_accesos.describe())  # Estadísticas descriptivas"
   ]
  },
  {
   "cell_type": "markdown",
   "metadata": {},
   "source": [
    "Al analizar el dataset, noté que contiene información sobre accesos a internet por tecnología, provincia, y trimestre. Tiene 1009 registros y 9 columnas, con algunos valores nulos en `Provincia` y las columnas relacionadas con las tecnologías. Los datos numéricos como `ADSL`, `Cablemodem`, y `Fibra óptica` tienen rangos amplios, lo que sugiere la posible presencia de outliers. Además, observé que las columnas `Año` y `Trimestre` están en formato texto, lo cual podría ajustarse a numérico para facilitar su análisis.\n",
    "\n",
    "Los valores de `Total` parecen reflejar la suma de las tecnologías, pero es algo que debo confirmar. El siguiente paso será limpiar los datos, comenzando con los valores nulos y la validación de consistencia en las columnas."
   ]
  },
  {
   "cell_type": "markdown",
   "metadata": {},
   "source": [
    "#### **valores nulos y consistencia**  \n",
    "Primero abordaré los valores nulos. Analizaré su distribución y decidiré cómo tratarlos dependiendo de su impacto en el análisis. También validaré que la columna Total coincida con la suma de las tecnologías."
   ]
  },
  {
   "cell_type": "code",
   "execution_count": 9,
   "metadata": {},
   "outputs": [
    {
     "name": "stdout",
     "output_type": "stream",
     "text": [
      "Año             1\n",
      "Trimestre       1\n",
      "Provincia       2\n",
      "ADSL            2\n",
      "Cablemodem      2\n",
      "Fibra óptica    2\n",
      "Wireless        2\n",
      "Otros           2\n",
      "Total           2\n",
      "dtype: int64\n",
      "Número de filas con diferencias en Total: 2\n"
     ]
    }
   ],
   "source": [
    "# Revisión de valores nulos\n",
    "print(df_accesos.isnull().sum())\n",
    "\n",
    "# Validación de la columna Total\n",
    "df_accesos['Suma_Tecnologías'] = df_accesos[['ADSL', 'Cablemodem', 'Fibra óptica', 'Wireless', 'Otros']].sum(axis=1)\n",
    "diferencias = df_accesos[df_accesos['Suma_Tecnologías'] != df_accesos['Total']]\n",
    "\n",
    "print(f\"Número de filas con diferencias en Total: {len(diferencias)}\")"
   ]
  },
  {
   "cell_type": "markdown",
   "metadata": {},
   "source": [
    "Noté que hay pocos valores nulos: solo 1 en Año y Trimestre, y 2 en las demás columnas. Además, hay 2 registros donde Total no coincide con la suma de las tecnologías.\n",
    "\n",
    "---\n",
    "**Siguientes pasos**  \n",
    "**Valores nulos**: Para Año y Trimestre, buscaré imputarlos usando valores cercanos o eliminar esas filas si no son relevantes. Para las columnas de tecnologías y Total, analizaré si rellenar con 0 o la mediana tiene sentido según la distribución.  \n",
    "**Inconsistencias en Total**: Recalcularé Total en esas filas para garantizar consistencia."
   ]
  },
  {
   "cell_type": "code",
   "execution_count": 10,
   "metadata": {},
   "outputs": [
    {
     "name": "stdout",
     "output_type": "stream",
     "text": [
      "Año                 0\n",
      "Trimestre           0\n",
      "Provincia           2\n",
      "ADSL                0\n",
      "Cablemodem          0\n",
      "Fibra óptica        0\n",
      "Wireless            0\n",
      "Otros               0\n",
      "Total               0\n",
      "Suma_Tecnologías    0\n",
      "dtype: int64\n",
      "Diferencias restantes en Total: 0\n"
     ]
    }
   ],
   "source": [
    "# Tratamiento de valores nulos\n",
    "# Imputar valores nulos en `Año` y `Trimestre` con el más frecuente\n",
    "df_accesos['Año'].fillna(df_accesos['Año'].mode()[0], inplace=True)\n",
    "df_accesos['Trimestre'].fillna(df_accesos['Trimestre'].mode()[0], inplace=True)\n",
    "\n",
    "# Rellenar valores nulos en columnas numéricas con 0\n",
    "columnas_numericas = ['ADSL', 'Cablemodem', 'Fibra óptica', 'Wireless', 'Otros', 'Total']\n",
    "df_accesos[columnas_numericas] = df_accesos[columnas_numericas].fillna(0)\n",
    "\n",
    "# Ajustar inconsistencias en `Total`\n",
    "df_accesos.loc[diferencias.index, 'Total'] = df_accesos.loc[diferencias.index, 'Suma_Tecnologías']\n",
    "\n",
    "# Verificación final de valores nulos e inconsistencias\n",
    "print(df_accesos.isnull().sum())\n",
    "print(f\"Diferencias restantes en Total: {len(df_accesos[df_accesos['Total'] != df_accesos['Suma_Tecnologías']])}\")\n"
   ]
  },
  {
   "cell_type": "markdown",
   "metadata": {},
   "source": [
    "Los valores nulos han sido tratados, y ya no hay diferencias en la columna Total. Esto asegura que los datos sean consistentes y estén listos para continuar con el análisis.  \n",
    "Al inspeccionar los datos, observé que en las columnas Año y Trimestre aparece un espacio seguido de un asterisco (por ejemplo, 2019 *) en algunas filas filas, lo cual será lo primero que corregiré. "
   ]
  },
  {
   "cell_type": "code",
   "execution_count": 11,
   "metadata": {},
   "outputs": [
    {
     "data": {
      "text/html": [
       "<div>\n",
       "<style scoped>\n",
       "    .dataframe tbody tr th:only-of-type {\n",
       "        vertical-align: middle;\n",
       "    }\n",
       "\n",
       "    .dataframe tbody tr th {\n",
       "        vertical-align: top;\n",
       "    }\n",
       "\n",
       "    .dataframe thead th {\n",
       "        text-align: right;\n",
       "    }\n",
       "</style>\n",
       "<table border=\"1\" class=\"dataframe\">\n",
       "  <thead>\n",
       "    <tr style=\"text-align: right;\">\n",
       "      <th></th>\n",
       "      <th>Año</th>\n",
       "      <th>Trimestre</th>\n",
       "    </tr>\n",
       "  </thead>\n",
       "  <tbody>\n",
       "    <tr>\n",
       "      <th>457</th>\n",
       "      <td>2019 *</td>\n",
       "      <td>3 *</td>\n",
       "    </tr>\n",
       "    <tr>\n",
       "      <th>458</th>\n",
       "      <td>2019 *</td>\n",
       "      <td>3 *</td>\n",
       "    </tr>\n",
       "    <tr>\n",
       "      <th>459</th>\n",
       "      <td>2019 *</td>\n",
       "      <td>3 *</td>\n",
       "    </tr>\n",
       "  </tbody>\n",
       "</table>\n",
       "</div>"
      ],
      "text/plain": [
       "        Año Trimestre\n",
       "457  2019 *       3 *\n",
       "458  2019 *       3 *\n",
       "459  2019 *       3 *"
      ]
     },
     "execution_count": 11,
     "metadata": {},
     "output_type": "execute_result"
    }
   ],
   "source": [
    "# Ver las filas 458 a 460\n",
    "df_accesos.iloc[457:460][['Año', 'Trimestre']]"
   ]
  },
  {
   "cell_type": "markdown",
   "metadata": {},
   "source": [
    "#### **Tratamiento de datos inconsistentes**  \n",
    "Eliminé los asteriscos de las columnas `Año` y `Trimestre`, usando `str.replace()`. Esto asegura un formato correcto para el análisis."
   ]
  },
  {
   "cell_type": "code",
   "execution_count": 12,
   "metadata": {},
   "outputs": [
    {
     "data": {
      "text/html": [
       "<div>\n",
       "<style scoped>\n",
       "    .dataframe tbody tr th:only-of-type {\n",
       "        vertical-align: middle;\n",
       "    }\n",
       "\n",
       "    .dataframe tbody tr th {\n",
       "        vertical-align: top;\n",
       "    }\n",
       "\n",
       "    .dataframe thead th {\n",
       "        text-align: right;\n",
       "    }\n",
       "</style>\n",
       "<table border=\"1\" class=\"dataframe\">\n",
       "  <thead>\n",
       "    <tr style=\"text-align: right;\">\n",
       "      <th></th>\n",
       "      <th>Año</th>\n",
       "      <th>Trimestre</th>\n",
       "    </tr>\n",
       "  </thead>\n",
       "  <tbody>\n",
       "    <tr>\n",
       "      <th>457</th>\n",
       "      <td>2019</td>\n",
       "      <td>3</td>\n",
       "    </tr>\n",
       "    <tr>\n",
       "      <th>458</th>\n",
       "      <td>2019</td>\n",
       "      <td>3</td>\n",
       "    </tr>\n",
       "    <tr>\n",
       "      <th>459</th>\n",
       "      <td>2019</td>\n",
       "      <td>3</td>\n",
       "    </tr>\n",
       "  </tbody>\n",
       "</table>\n",
       "</div>"
      ],
      "text/plain": [
       "      Año Trimestre\n",
       "457  2019         3\n",
       "458  2019         3\n",
       "459  2019         3"
      ]
     },
     "execution_count": 12,
     "metadata": {},
     "output_type": "execute_result"
    }
   ],
   "source": [
    "# Realizamos las correcciones mencionadas\n",
    "df_accesos['Año'] = df_accesos['Año'].str.replace(' *', '', regex=False)\n",
    "df_accesos['Trimestre'] = df_accesos['Trimestre'].str.replace(' *', '', regex=False)\n",
    "\n",
    "# Ver las filas 458 a 460\n",
    "df_accesos.iloc[457:460][['Año', 'Trimestre']]"
   ]
  },
  {
   "cell_type": "markdown",
   "metadata": {},
   "source": [
    "#### **Convertir 'Año' y 'Trimestre' a tipos adecuados**"
   ]
  },
  {
   "cell_type": "code",
   "execution_count": 13,
   "metadata": {},
   "outputs": [
    {
     "name": "stdout",
     "output_type": "stream",
     "text": [
      "Año                 float64\n",
      "Trimestre           float64\n",
      "Provincia            object\n",
      "ADSL                float64\n",
      "Cablemodem          float64\n",
      "Fibra óptica        float64\n",
      "Wireless            float64\n",
      "Otros               float64\n",
      "Total               float64\n",
      "Suma_Tecnologías    float64\n",
      "dtype: object\n",
      "Año                 0\n",
      "Trimestre           0\n",
      "Provincia           1\n",
      "ADSL                0\n",
      "Cablemodem          0\n",
      "Fibra óptica        0\n",
      "Wireless            0\n",
      "Otros               0\n",
      "Total               0\n",
      "Suma_Tecnologías    0\n",
      "dtype: int64\n"
     ]
    }
   ],
   "source": [
    "# Convertir 'Año' a tipo entero\n",
    "df_accesos['Año'] = pd.to_numeric(df_accesos['Año'], errors='coerce')\n",
    "\n",
    "# Convertir 'Trimestre' a tipo entero\n",
    "df_accesos['Trimestre'] = pd.to_numeric(df_accesos['Trimestre'], errors='coerce')\n",
    "\n",
    "# Verificar la conversión\n",
    "print(df_accesos.dtypes)\n",
    "\n",
    "# Si encuentras valores nulos después de la conversión, puedes imputarlos o eliminarlos\n",
    "df_accesos.dropna(subset=['Año', 'Trimestre'], inplace=True)\n",
    "\n",
    "# Verificar después de la limpieza\n",
    "print(df_accesos.isnull().sum())\n"
   ]
  },
  {
   "cell_type": "markdown",
   "metadata": {},
   "source": [
    "La conversión se realizó correctamente para las columnas Año y Trimestre, y ahora el tipo de datos es float64. Además, los valores nulos restantes solo se encuentran en la columna Provincia (con 1 valor nulo). Eliminaré la fila con el valor nulo, ya que dada la cantidad de datos, no será un problema tener una fila menos."
   ]
  },
  {
   "cell_type": "code",
   "execution_count": 14,
   "metadata": {},
   "outputs": [],
   "source": [
    "# Eliminar el valor nulo:\n",
    "df_accesos.dropna(subset=['Provincia'], inplace=True)"
   ]
  },
  {
   "cell_type": "code",
   "execution_count": 15,
   "metadata": {},
   "outputs": [
    {
     "data": {
      "text/plain": [
       "Año                 0\n",
       "Trimestre           0\n",
       "Provincia           0\n",
       "ADSL                0\n",
       "Cablemodem          0\n",
       "Fibra óptica        0\n",
       "Wireless            0\n",
       "Otros               0\n",
       "Total               0\n",
       "Suma_Tecnologías    0\n",
       "dtype: int64"
      ]
     },
     "execution_count": 15,
     "metadata": {},
     "output_type": "execute_result"
    }
   ],
   "source": [
    "df_accesos.isnull().sum()\n"
   ]
  },
  {
   "cell_type": "markdown",
   "metadata": {},
   "source": [
    "#### **Verificar y ajustar las columnas que involucran el cálculo de Suma_Tecnologías.**"
   ]
  },
  {
   "cell_type": "code",
   "execution_count": 16,
   "metadata": {},
   "outputs": [],
   "source": [
    "df_accesos['Suma_Tecnologías'] = df_accesos[['ADSL', 'Cablemodem', 'Fibra óptica', 'Wireless', 'Otros']].sum(axis=1)"
   ]
  },
  {
   "cell_type": "code",
   "execution_count": 17,
   "metadata": {},
   "outputs": [
    {
     "name": "stdout",
     "output_type": "stream",
     "text": [
      "Empty DataFrame\n",
      "Columns: [Año, Trimestre, Provincia, ADSL, Cablemodem, Fibra óptica, Wireless, Otros, Total, Suma_Tecnologías]\n",
      "Index: []\n"
     ]
    }
   ],
   "source": [
    "discrepancias_suma = df_accesos[df_accesos['Suma_Tecnologías'] != df_accesos['Total']]\n",
    "print(discrepancias_suma)"
   ]
  },
  {
   "cell_type": "markdown",
   "metadata": {},
   "source": [
    "He verificado las columnas involucradas en el cálculo de `Suma_Tecnologías` y confirmo que los valores de ADSL, Cablemodem, Fibra óptica, Wireless, y Otros coinciden correctamente con la suma en `Suma_Tecnologías`. No encontré discrepancias y todo parece estar correcto."
   ]
  },
  {
   "cell_type": "markdown",
   "metadata": {},
   "source": [
    "#### **Verificación de valores nulos y negativos**"
   ]
  },
  {
   "cell_type": "code",
   "execution_count": 18,
   "metadata": {},
   "outputs": [
    {
     "data": {
      "text/plain": [
       "(ADSL            0\n",
       " Cablemodem      0\n",
       " Fibra óptica    0\n",
       " Wireless        0\n",
       " Otros           0\n",
       " dtype: int64,\n",
       " ADSL            0\n",
       " Cablemodem      0\n",
       " Fibra óptica    0\n",
       " Wireless        0\n",
       " Otros           0\n",
       " dtype: int64,\n",
       " np.int64(0))"
      ]
     },
     "execution_count": 18,
     "metadata": {},
     "output_type": "execute_result"
    }
   ],
   "source": [
    "# Verificar valores negativos en las columnas de tecnologías\n",
    "inconsistencias_negativas = df_accesos[['ADSL', 'Cablemodem', 'Fibra óptica', 'Wireless', 'Otros']].lt(0).sum()\n",
    "\n",
    "# Verificar valores nulos en las columnas de tecnologías\n",
    "inconsistencias_nulos = df_accesos[['ADSL', 'Cablemodem', 'Fibra óptica', 'Wireless', 'Otros']].isnull().sum()\n",
    "\n",
    "# Verificar que los valores de 'Total' coincidan con la suma de las demás columnas\n",
    "suma_tecnologias = df_accesos[['ADSL', 'Cablemodem', 'Fibra óptica', 'Wireless', 'Otros']].sum(axis=1)\n",
    "diferencias_total = df_accesos['Total'] != suma_tecnologias\n",
    "\n",
    "inconsistencias_negativas, inconsistencias_nulos, diferencias_total.sum()"
   ]
  },
  {
   "cell_type": "markdown",
   "metadata": {},
   "source": [
    "No se encontraron inconsistencias en las columnas de tecnologías. Con esto, las columnas están bien ajustadas y no es necesario realizar cambios adicionales."
   ]
  },
  {
   "cell_type": "markdown",
   "metadata": {},
   "source": [
    "#### **Asegurar la conversión a tipo entero**  \n",
    "Convierto las columnas `Año` y `Trimestre` a tipo `int64` para garantizar consistencia en el tipo de dato, eliminando posibles problemas por valores nulos previos."
   ]
  },
  {
   "cell_type": "code",
   "execution_count": 19,
   "metadata": {},
   "outputs": [],
   "source": [
    "# Convertir 'Año' y 'Trimestre' a tipo entero\n",
    "df_accesos['Año'] = df_accesos['Año'].astype('int64')\n",
    "df_accesos['Trimestre'] = df_accesos['Trimestre'].astype('int64')\n"
   ]
  },
  {
   "cell_type": "markdown",
   "metadata": {},
   "source": [
    "#### **Exploración de Valores Extremos (Outliers)**  \n",
    "Voy a analizar los valores extremos en las columnas numéricas, especialmente en `ADSL`, `Wireless` y otras variables de acceso, ya que estos pueden afectar las conclusiones o el rendimiento de modelos predictivos.\n",
    "\n",
    "---\n",
    "\n",
    "#### **Identificación de Outliers**  \n",
    "Usaré el **rango intercuartílico (IQR)** para identificar los outliers. Este método calcula el rango entre los percentiles 25 y 75, y considera como outliers aquellos valores que se encuentran fuera del rango definido por 1.5 veces el IQR."
   ]
  },
  {
   "cell_type": "code",
   "execution_count": 20,
   "metadata": {},
   "outputs": [
    {
     "name": "stdout",
     "output_type": "stream",
     "text": [
      "\n",
      "Columna: ADSL\n",
      "Límite inferior: -81356.25\n",
      "Límite superior: 188365.75\n",
      "Cantidad de outliers: 132\n",
      "\n",
      "Columna: Wireless\n",
      "Límite inferior: -19518.75\n",
      "Límite superior: 34699.25\n",
      "Cantidad de outliers: 87\n",
      "\n",
      "Columna: Cablemodem\n",
      "Límite inferior: -87624.0\n",
      "Límite superior: 175428.0\n",
      "Cantidad de outliers: 166\n",
      "\n",
      "Columna: Fibra óptica\n",
      "Límite inferior: -43000.5\n",
      "Límite superior: 72611.5\n",
      "Cantidad de outliers: 105\n",
      "\n",
      "Columna: Otros\n",
      "Límite inferior: -10485.75\n",
      "Límite superior: 18368.25\n",
      "Cantidad de outliers: 109\n",
      "\n",
      "Columna: Total\n",
      "Límite inferior: -137449.25\n",
      "Límite superior: 395512.75\n",
      "Cantidad de outliers: 167\n"
     ]
    }
   ],
   "source": [
    "# Función para identificar outliers en columnas específicas\n",
    "def identificar_outliers(df, columna):\n",
    "    Q1 = df[columna].quantile(0.25)\n",
    "    Q3 = df[columna].quantile(0.75)\n",
    "    IQR = Q3 - Q1\n",
    "    limite_inferior = Q1 - 1.5 * IQR\n",
    "    limite_superior = Q3 + 1.5 * IQR\n",
    "    outliers = df[(df[columna] < limite_inferior) | (df[columna] > limite_superior)]\n",
    "    return len(outliers), limite_inferior, limite_superior\n",
    "\n",
    "# Columnas numéricas a analizar\n",
    "columnas_numericas = ['ADSL', 'Wireless', 'Cablemodem', 'Fibra óptica', 'Otros', 'Total']\n",
    "\n",
    "# Identificar outliers para cada columna numérica\n",
    "for columna in columnas_numericas:\n",
    "    cantidad_outliers, limite_inferior, limite_superior = identificar_outliers(df_accesos, columna)\n",
    "    print(f\"\\nColumna: {columna}\")\n",
    "    print(f\"Límite inferior: {limite_inferior}\")\n",
    "    print(f\"Límite superior: {limite_superior}\")\n",
    "    print(f\"Cantidad de outliers: {cantidad_outliers}\")\n"
   ]
  },
  {
   "cell_type": "markdown",
   "metadata": {},
   "source": [
    "Se han detectado outliers en las siguientes columnas: **ADSL**: 132 filas (13% de los datos) con valores extremos. **Wireless**: 87 filas (8.6% de los datos) con valores extremos. **Total**: 167 filas (16.5% de los datos) con valores extremos.  \n",
    "Estos outliers podrían influir en los análisis y modelos predictivos, por lo que será necesario tratarlos adecuadamente."
   ]
  },
  {
   "cell_type": "code",
   "execution_count": 21,
   "metadata": {},
   "outputs": [
    {
     "data": {
      "image/png": "[encoded data removed]",
      "text/plain": [
       "<Figure size 1200x600 with 5 Axes>"
      ]
     },
     "metadata": {},
     "output_type": "display_data"
    }
   ],
   "source": [
    "# Columnas clave\n",
    "columnas_clave = ['ADSL', 'Cablemodem', 'Fibra óptica', 'Wireless', 'Otros']\n",
    "\n",
    "# Crear un número de filas y columnas en función del número de columnas clave\n",
    "num_columnas = len(columnas_clave)\n",
    "num_filas = (num_columnas // 3) + (num_columnas % 3 > 0)  # Calcular el número de filas\n",
    "\n",
    "plt.figure(figsize=(12, 6))\n",
    "for i, columna in enumerate(columnas_clave, 1):\n",
    "    # Subplot dinámico según número de columnas\n",
    "    plt.subplot(num_filas, 3, i)  \n",
    "    sns.boxplot(y=df_accesos[columna], color=\"skyblue\")\n",
    "    plt.title(f\"Boxplot de {columna}\")\n",
    "\n",
    "plt.tight_layout()  # Ajustar el espaciado\n",
    "plt.show()"
   ]
  },
  {
   "cell_type": "markdown",
   "metadata": {},
   "source": [
    "**Análisis de Contexto Regional**  \n",
    "Los outliers en ADSL y Wireless reflejan características regionales importantes. Buenos Aires destaca por su población y avanzada infraestructura tecnológica, lo que justifica sus valores elevados. Córdoba, como polo económico y tecnológico, presenta picos en conexiones impulsados por ciudades como Córdoba capital. En San Luis, programas provinciales y conectividad rural explican los valores extremos. Estos datos no son errores, sino patrones reales influenciados por factores demográficos y tecnológicos, por lo que analizaré los outliers en su contexto para no perder información clave."
   ]
  },
  {
   "cell_type": "markdown",
   "metadata": {},
   "source": [
    "#### **Justificación del Gráfico Comparativo**  \n",
    "El gráfico comparativo incluirá todas las provincias para validar que los outliers en Buenos Aires, Córdoba y San Luis reflejan inversiones y condiciones específicas, no errores. Permitirá analizar diferencias regionales y situar estas provincias dentro del contexto nacional, fortaleciendo mi análisis sobre las dinámicas tecnológicas en Argentina."
   ]
  },
  {
   "cell_type": "code",
   "execution_count": 22,
   "metadata": {},
   "outputs": [
    {
     "data": {
      "image/png": "[encoded data removed]",
      "text/plain": [
       "<Figure size 1200x800 with 1 Axes>"
      ]
     },
     "metadata": {},
     "output_type": "display_data"
    }
   ],
   "source": [
    "# Agrupamos los datos por provincia y sumamos los accesos por tecnología\n",
    "df_provincias = df_accesos.groupby('Provincia')[['ADSL', 'Cablemodem', 'Fibra óptica', 'Wireless', 'Otros']].sum()\n",
    "\n",
    "# Configuración del gráfico\n",
    "fig, ax = plt.subplots(figsize=(12, 8))\n",
    "df_provincias.plot(kind='bar', stacked=True, ax=ax, colormap='tab20c')\n",
    "\n",
    "# Personalización\n",
    "ax.set_title('Distribución de Accesos por Tecnología y Provincia', fontsize=16)\n",
    "ax.set_xlabel('Provincias', fontsize=12)\n",
    "ax.set_ylabel('Número de Accesos', fontsize=12)\n",
    "ax.legend(title='Tecnología', loc='upper right', fontsize=10)\n",
    "plt.xticks(rotation=45, ha='right')\n",
    "plt.tight_layout()\n",
    "\n",
    "# Mostrar gráfico\n",
    "plt.show()\n"
   ]
  },
  {
   "cell_type": "markdown",
   "metadata": {},
   "source": [
    "El gráfico muestra que Buenos Aires, Córdoba y San Luis sobresalen en accesos a Internet. Buenos Aires lidera por su densidad y tecnología avanzada, Córdoba destaca como polo tecnológico, y San Luis refleja el impacto de sus programas provinciales. Esto respalda que los outliers representan patrones regionales y no errores."
   ]
  },
  {
   "cell_type": "markdown",
   "metadata": {},
   "source": [
    "#### **Conclusiones Finales de EDA**  \n",
    "En mi análisis, identifiqué y manejé valores nulos, duplicados y outliers. Los outliers presentes en las columnas como \"ADSL\", \"Wireless\" y \"Total\" se deben a características específicas de las regiones y no se consideran errores. Tras la limpieza y el examen de los datos, concluyo que están listos para ser guardados y utilizados en futuras etapas de análisis, lo que permitirá un estudio más profundo y preciso de las tendencias y patrones detectados."
   ]
  },
  {
   "cell_type": "markdown",
   "metadata": {},
   "source": [
    "####  **Guardar el DataFrame limpio en otra carpeta** "
   ]
  },
  {
   "cell_type": "code",
   "execution_count": 23,
   "metadata": {},
   "outputs": [
    {
     "name": "stdout",
     "output_type": "stream",
     "text": [
      "Archivo guardado en: C:\\Users\\NOTEBOOK\\Desktop\\Proyecto_ConectandoArgentina\\Datasets\\DatasetsLimpios\\Accesos Por Tecnología.csv\n"
     ]
    }
   ],
   "source": [
    "# Guardar el DataFrame limpio como un archivo CSV\n",
    "output_path_accesos = r'C:\\Users\\NOTEBOOK\\Desktop\\Proyecto_ConectandoArgentina\\Datasets\\DatasetsLimpios\\Accesos Por Tecnología.csv'\n",
    "df_accesos.to_csv(output_path_accesos, index=False)\n",
    "\n",
    "print(f'Archivo guardado en: {output_path_accesos}')"
   ]
  },
  {
   "cell_type": "markdown",
   "metadata": {},
   "source": [
    "#### **Penetracion-hogares.csv**"
   ]
  },
  {
   "cell_type": "code",
   "execution_count": 24,
   "metadata": {},
   "outputs": [
    {
     "name": "stdout",
     "output_type": "stream",
     "text": [
      "* Primeras filas del archivo:\n"
     ]
    },
    {
     "data": {
      "text/html": [
       "<div>\n",
       "<style scoped>\n",
       "    .dataframe tbody tr th:only-of-type {\n",
       "        vertical-align: middle;\n",
       "    }\n",
       "\n",
       "    .dataframe tbody tr th {\n",
       "        vertical-align: top;\n",
       "    }\n",
       "\n",
       "    .dataframe thead th {\n",
       "        text-align: right;\n",
       "    }\n",
       "</style>\n",
       "<table border=\"1\" class=\"dataframe\">\n",
       "  <thead>\n",
       "    <tr style=\"text-align: right;\">\n",
       "      <th></th>\n",
       "      <th>Año</th>\n",
       "      <th>Trimestre</th>\n",
       "      <th>Provincia</th>\n",
       "      <th>Accesos por cada 100 hogares</th>\n",
       "    </tr>\n",
       "  </thead>\n",
       "  <tbody>\n",
       "    <tr>\n",
       "      <th>0</th>\n",
       "      <td>2024</td>\n",
       "      <td>2</td>\n",
       "      <td>Buenos Aires</td>\n",
       "      <td>79.84</td>\n",
       "    </tr>\n",
       "    <tr>\n",
       "      <th>1</th>\n",
       "      <td>2024</td>\n",
       "      <td>2</td>\n",
       "      <td>Capital Federal</td>\n",
       "      <td>116.37</td>\n",
       "    </tr>\n",
       "    <tr>\n",
       "      <th>2</th>\n",
       "      <td>2024</td>\n",
       "      <td>2</td>\n",
       "      <td>Catamarca</td>\n",
       "      <td>68.81</td>\n",
       "    </tr>\n",
       "    <tr>\n",
       "      <th>3</th>\n",
       "      <td>2024</td>\n",
       "      <td>2</td>\n",
       "      <td>Chaco</td>\n",
       "      <td>44.06</td>\n",
       "    </tr>\n",
       "    <tr>\n",
       "      <th>4</th>\n",
       "      <td>2024</td>\n",
       "      <td>2</td>\n",
       "      <td>Chubut</td>\n",
       "      <td>86.33</td>\n",
       "    </tr>\n",
       "  </tbody>\n",
       "</table>\n",
       "</div>"
      ],
      "text/plain": [
       "    Año  Trimestre        Provincia  Accesos por cada 100 hogares\n",
       "0  2024          2     Buenos Aires                         79.84\n",
       "1  2024          2  Capital Federal                        116.37\n",
       "2  2024          2        Catamarca                         68.81\n",
       "3  2024          2            Chaco                         44.06\n",
       "4  2024          2           Chubut                         86.33"
      ]
     },
     "execution_count": 24,
     "metadata": {},
     "output_type": "execute_result"
    }
   ],
   "source": [
    "# Cargar el archivo\n",
    "ruta = r'C:\\Users\\NOTEBOOK\\Desktop\\Proyecto_ConectandoArgentina\\Datasets\\Penetracion-hogares.csv'\n",
    "df_hogares = pd.read_csv(ruta)\n",
    "\n",
    "# Ver las primeras filas\n",
    "print(\"* Primeras filas del archivo:\")\n",
    "df_hogares.head()\n"
   ]
  },
  {
   "cell_type": "markdown",
   "metadata": {},
   "source": [
    "#### **Inspección inicial del dataset**"
   ]
  },
  {
   "cell_type": "code",
   "execution_count": 25,
   "metadata": {},
   "outputs": [
    {
     "name": "stdout",
     "output_type": "stream",
     "text": [
      "<class 'pandas.core.frame.DataFrame'>\n",
      "RangeIndex: 1000 entries, 0 to 999\n",
      "Data columns (total 4 columns):\n",
      " #   Column                        Non-Null Count  Dtype  \n",
      "---  ------                        --------------  -----  \n",
      " 0   Año                           1000 non-null   int64  \n",
      " 1   Trimestre                     1000 non-null   int64  \n",
      " 2   Provincia                     1000 non-null   object \n",
      " 3   Accesos por cada 100 hogares  1000 non-null   float64\n",
      "dtypes: float64(1), int64(2), object(1)\n",
      "memory usage: 31.4+ KB\n",
      "None\n",
      "               Año    Trimestre  Accesos por cada 100 hogares\n",
      "count  1000.000000  1000.000000                   1000.000000\n",
      "mean   2018.800000     2.464000                     52.794973\n",
      "std       3.021445     1.114426                     24.135063\n",
      "min    2014.000000     1.000000                      9.513970\n",
      "25%    2016.000000     1.000000                     33.957657\n",
      "50%    2019.000000     2.000000                     50.133004\n",
      "75%    2021.000000     3.000000                     67.010861\n",
      "max    2024.000000     4.000000                    124.061394\n"
     ]
    }
   ],
   "source": [
    "print(df_hogares.info())  # Información general\n",
    "print(df_hogares.describe())  # Estadísticas descriptivas"
   ]
  },
  {
   "cell_type": "markdown",
   "metadata": {},
   "source": [
    "**Análisis**: Al analizar los datos, observo que las columnas tienen tipos de datos adecuados. Los datos no presentan valores nulos ni duplicados, lo que garantiza la integridad del dataset. En cuanto a los valores de accesos, la media es 52.8, con un rango que va de 9.5 a 124.06, lo que indica disparidades significativas entre provincias, especialmente entre las más urbanizadas y las de menor infraestructura. Este análisis me permitirá identificar patrones regionales y trabajar con datos confiables."
   ]
  },
  {
   "cell_type": "code",
   "execution_count": 26,
   "metadata": {},
   "outputs": [
    {
     "name": "stdout",
     "output_type": "stream",
     "text": [
      "No se encontraron filas duplicadas.\n"
     ]
    }
   ],
   "source": [
    "# Verificar duplicados\n",
    "duplicados = df_hogares.duplicated().sum()\n",
    "\n",
    "if duplicados > 0:\n",
    "    print(f\"Se encontraron {duplicados} filas duplicadas.\")\n",
    "else:\n",
    "    print(\"No se encontraron filas duplicadas.\")\n"
   ]
  },
  {
   "cell_type": "markdown",
   "metadata": {},
   "source": [
    "#### **Detección y Análisis de Outliers**  \n",
    "Realizaré un análisis de outliers en la columna \"Accesos por cada 100 hogares\" utilizando el método de los cuartiles (IQR). Identificaré los valores extremos que puedan influir en el análisis y determinaré si es necesario tratarlos o si reflejan patrones regionales."
   ]
  },
  {
   "cell_type": "code",
   "execution_count": 27,
   "metadata": {},
   "outputs": [
    {
     "name": "stdout",
     "output_type": "stream",
     "text": [
      "Outliers detectados:\n",
      "      Año  Trimestre        Provincia  Accesos por cada 100 hogares\n",
      "25   2024          1  Capital Federal                    119.530000\n",
      "49   2023          4  Capital Federal                    117.020000\n",
      "121  2023          1  Capital Federal                    122.590000\n",
      "145  2022          4  Capital Federal                    122.730000\n",
      "169  2022          3  Capital Federal                    122.280000\n",
      "193  2022          2  Capital Federal                    121.310000\n",
      "625  2017          4  Capital Federal                    122.897424\n",
      "649  2017          3  Capital Federal                    121.858326\n",
      "673  2017          2  Capital Federal                    124.061394\n",
      "721  2016          4  Capital Federal                    120.631332\n",
      "745  2016          3  Capital Federal                    120.772878\n",
      "769  2016          2  Capital Federal                    120.039535\n",
      "817  2015          4  Capital Federal                    118.130363\n",
      "841  2015          3  Capital Federal                    118.289211\n",
      "\n",
      "Límite inferior: -15.622149011907887\n",
      "Límite superior: 116.59066669166995\n",
      "Cantidad de outliers: 14\n"
     ]
    }
   ],
   "source": [
    "# Calcular el IQR\n",
    "Q1 = df_hogares['Accesos por cada 100 hogares'].quantile(0.25)\n",
    "Q3 = df_hogares['Accesos por cada 100 hogares'].quantile(0.75)\n",
    "IQR = Q3 - Q1\n",
    "\n",
    "# Definir los límites inferior y superior\n",
    "limite_inferior = Q1 - 1.5 * IQR\n",
    "limite_superior = Q3 + 1.5 * IQR\n",
    "\n",
    "# Filtrar los outliers\n",
    "outliers = df_hogares[(df_hogares['Accesos por cada 100 hogares'] < limite_inferior) | \n",
    "                      (df_hogares['Accesos por cada 100 hogares'] > limite_superior)]\n",
    "\n",
    "# Mostrar los outliers\n",
    "print(\"Outliers detectados:\")\n",
    "print(outliers)\n",
    "\n",
    "# Mostrar la cantidad de outliers y los límites\n",
    "print(f\"\\nLímite inferior: {limite_inferior}\")\n",
    "print(f\"Límite superior: {limite_superior}\")\n",
    "print(f\"Cantidad de outliers: {len(outliers)}\")\n"
   ]
  },
  {
   "cell_type": "markdown",
   "metadata": {},
   "source": [
    "**Análisis**: Estos valores elevados podrían ser indicativos de condiciones particulares en \"Capital Federal\", como un mayor acceso a tecnología o proyectos de conectividad que aumentan el número de accesos por hogar, lo cual puede justificar estos valores sin considerarlos como errores. Es importante tener en cuenta el contexto de la región antes de tomar decisiones sobre si deben ser tratados o no."
   ]
  },
  {
   "cell_type": "markdown",
   "metadata": {},
   "source": [
    "#### **Conclusiones Finales de EDA**  \n",
    "En este análisis, revisé el archivo de datos y traté problemas potenciales como valores nulos, duplicados y outliers. Los outliers detectados en \"Accesos por cada 100 hogares\" se explican por diferencias regionales y no se consideran errores. Tras un análisis exhaustivo, confirmé que los datos han sido limpiados y preparados adecuadamente. El archivo está listo para guardarse y ser utilizado en la siguiente etapa del análisis, lo que permitirá profundizar en el estudio y obtener conclusiones más precisas."
   ]
  },
  {
   "cell_type": "markdown",
   "metadata": {},
   "source": [
    "####  **Guardar el DataFrame limpio en otra carpeta** "
   ]
  },
  {
   "cell_type": "code",
   "execution_count": 28,
   "metadata": {},
   "outputs": [
    {
     "name": "stdout",
     "output_type": "stream",
     "text": [
      "Archivo guardado en: C:\\Users\\NOTEBOOK\\Desktop\\Proyecto_ConectandoArgentina\\Datasets\\DatasetsLimpios\\Penetracion-hogares.csv\n"
     ]
    }
   ],
   "source": [
    "# Cargar el archivo CSV en un DataFrame\n",
    "ruta = r'C:\\Users\\NOTEBOOK\\Desktop\\Proyecto_ConectandoArgentina\\Datasets\\Penetracion-hogares.csv'\n",
    "df_hogares = pd.read_csv(ruta)\n",
    "\n",
    "# Definir la nueva ruta de guardado, manteniendo el mismo nombre del archivo\n",
    "output_path_hogares = r'C:\\Users\\NOTEBOOK\\Desktop\\Proyecto_ConectandoArgentina\\Datasets\\DatasetsLimpios\\Penetracion-hogares.csv'\n",
    "\n",
    "# Guardar el DataFrame 'df_hogares' como un archivo CSV en la nueva ruta\n",
    "df_hogares.to_csv(output_path_hogares, index=False)\n",
    "\n",
    "# Confirmar que el archivo fue guardado correctamente\n",
    "print(f'Archivo guardado en: {output_path_hogares}')\n"
   ]
  },
  {
   "cell_type": "markdown",
   "metadata": {},
   "source": [
    "#### **Penetración-poblacion.csv**"
   ]
  },
  {
   "cell_type": "code",
   "execution_count": 29,
   "metadata": {},
   "outputs": [
    {
     "name": "stdout",
     "output_type": "stream",
     "text": [
      "* Primeras filas del archivo:\n"
     ]
    },
    {
     "data": {
      "text/html": [
       "<div>\n",
       "<style scoped>\n",
       "    .dataframe tbody tr th:only-of-type {\n",
       "        vertical-align: middle;\n",
       "    }\n",
       "\n",
       "    .dataframe tbody tr th {\n",
       "        vertical-align: top;\n",
       "    }\n",
       "\n",
       "    .dataframe thead th {\n",
       "        text-align: right;\n",
       "    }\n",
       "</style>\n",
       "<table border=\"1\" class=\"dataframe\">\n",
       "  <thead>\n",
       "    <tr style=\"text-align: right;\">\n",
       "      <th></th>\n",
       "      <th>Año</th>\n",
       "      <th>Trimestre</th>\n",
       "      <th>Provincia</th>\n",
       "      <th>Accesos por cada 100 hab</th>\n",
       "    </tr>\n",
       "  </thead>\n",
       "  <tbody>\n",
       "    <tr>\n",
       "      <th>0</th>\n",
       "      <td>2024</td>\n",
       "      <td>2</td>\n",
       "      <td>Buenos Aires</td>\n",
       "      <td>27.43</td>\n",
       "    </tr>\n",
       "    <tr>\n",
       "      <th>1</th>\n",
       "      <td>2024</td>\n",
       "      <td>2</td>\n",
       "      <td>Capital Federal</td>\n",
       "      <td>47.44</td>\n",
       "    </tr>\n",
       "    <tr>\n",
       "      <th>2</th>\n",
       "      <td>2024</td>\n",
       "      <td>2</td>\n",
       "      <td>Catamarca</td>\n",
       "      <td>17.50</td>\n",
       "    </tr>\n",
       "    <tr>\n",
       "      <th>3</th>\n",
       "      <td>2024</td>\n",
       "      <td>2</td>\n",
       "      <td>Chaco</td>\n",
       "      <td>11.78</td>\n",
       "    </tr>\n",
       "    <tr>\n",
       "      <th>4</th>\n",
       "      <td>2024</td>\n",
       "      <td>2</td>\n",
       "      <td>Chubut</td>\n",
       "      <td>26.46</td>\n",
       "    </tr>\n",
       "  </tbody>\n",
       "</table>\n",
       "</div>"
      ],
      "text/plain": [
       "    Año  Trimestre        Provincia  Accesos por cada 100 hab\n",
       "0  2024          2     Buenos Aires                     27.43\n",
       "1  2024          2  Capital Federal                     47.44\n",
       "2  2024          2        Catamarca                     17.50\n",
       "3  2024          2            Chaco                     11.78\n",
       "4  2024          2           Chubut                     26.46"
      ]
     },
     "execution_count": 29,
     "metadata": {},
     "output_type": "execute_result"
    }
   ],
   "source": [
    "# Cargar el archivo\n",
    "ruta = r'C:\\Users\\NOTEBOOK\\Desktop\\Proyecto_ConectandoArgentina\\Datasets\\Penetración-poblacion.csv'\n",
    "df_poblacion = pd.read_csv(ruta)\n",
    "\n",
    "# Ver las primeras filas\n",
    "print(\"* Primeras filas del archivo:\")\n",
    "df_poblacion.head()\n"
   ]
  },
  {
   "cell_type": "markdown",
   "metadata": {},
   "source": [
    "#### **Inspección inicial del dataset**"
   ]
  },
  {
   "cell_type": "code",
   "execution_count": 30,
   "metadata": {},
   "outputs": [
    {
     "name": "stdout",
     "output_type": "stream",
     "text": [
      "<class 'pandas.core.frame.DataFrame'>\n",
      "RangeIndex: 1000 entries, 0 to 999\n",
      "Data columns (total 4 columns):\n",
      " #   Column                    Non-Null Count  Dtype  \n",
      "---  ------                    --------------  -----  \n",
      " 0   Año                       1000 non-null   int64  \n",
      " 1   Trimestre                 1000 non-null   int64  \n",
      " 2   Provincia                 1000 non-null   object \n",
      " 3   Accesos por cada 100 hab  1000 non-null   float64\n",
      "dtypes: float64(1), int64(2), object(1)\n",
      "memory usage: 31.4+ KB\n",
      "None\n",
      "               Año    Trimestre  Accesos por cada 100 hab\n",
      "count  1000.000000  1000.000000               1000.000000\n",
      "mean   2018.800000     2.464000                 15.727248\n",
      "std       3.021445     1.114426                  9.240063\n",
      "min    2014.000000     1.000000                  2.723000\n",
      "25%    2016.000000     1.000000                  9.018188\n",
      "50%    2019.000000     2.000000                 13.674812\n",
      "75%    2021.000000     3.000000                 20.323973\n",
      "max    2024.000000     4.000000                 52.236739\n"
     ]
    }
   ],
   "source": [
    "print(df_poblacion.info())  # Información general\n",
    "print(df_poblacion.describe())  # Estadísticas descriptivas"
   ]
  },
  {
   "cell_type": "markdown",
   "metadata": {},
   "source": [
    "**Análisis**: Al analizar los datos, observo que las columnas tienen tipos de datos adecuados. El conjunto de datos no requiere de eliminación o tratamiento de valores nulos ni de duplicados en este caso.\n",
    "En cuanto a las estadísticas descriptivas, la columna \"Accesos por cada 100 hab\" tiene un valor promedio de 15.73, con una desviación estándar de 9.24. El valor mínimo es 2.72 y el máximo 52.24. La distribución de la columna es relativamente amplia, con una mediana de 13.67 y un rango intercuartílico de aproximadamente 9 a 20, lo que sugiere que la mayoría de los valores se concentran en un rango bajo a medio."
   ]
  },
  {
   "cell_type": "code",
   "execution_count": 31,
   "metadata": {},
   "outputs": [
    {
     "name": "stdout",
     "output_type": "stream",
     "text": [
      "No se encontraron filas duplicadas.\n"
     ]
    }
   ],
   "source": [
    "# Verificar duplicados\n",
    "duplicados = df_poblacion.duplicated().sum()\n",
    "\n",
    "if duplicados > 0:\n",
    "    print(f\"Se encontraron {duplicados} filas duplicadas.\")\n",
    "else:\n",
    "    print(\"No se encontraron filas duplicadas.\")\n"
   ]
  },
  {
   "cell_type": "markdown",
   "metadata": {},
   "source": [
    "#### **Detectar y visualizar outliers**"
   ]
  },
  {
   "cell_type": "code",
   "execution_count": 32,
   "metadata": {},
   "outputs": [
    {
     "name": "stdout",
     "output_type": "stream",
     "text": [
      "* Outliers identificados:\n",
      "      Año  Trimestre        Provincia  Accesos por cada 100 hab\n",
      "1    2024          2  Capital Federal                 47.440000\n",
      "25   2024          1  Capital Federal                 48.780000\n",
      "49   2023          4  Capital Federal                 47.800000\n",
      "73   2023          3  Capital Federal                 47.600000\n",
      "97   2023          2  Capital Federal                 47.270000\n",
      "121  2023          1  Capital Federal                 50.230000\n",
      "145  2022          4  Capital Federal                 50.350000\n",
      "169  2022          3  Capital Federal                 50.220000\n",
      "193  2022          2  Capital Federal                 49.873561\n",
      "217  2022          1  Capital Federal                 46.014348\n",
      "241  2021          4  Capital Federal                 45.848511\n",
      "265  2021          3  Capital Federal                 45.900383\n",
      "289  2021          2  Capital Federal                 45.487190\n",
      "313  2021          1  Capital Federal                 44.826990\n",
      "337  2020          4  Capital Federal                 44.833968\n",
      "361  2020          3  Capital Federal                 44.622743\n",
      "385  2020          2  Capital Federal                 44.151827\n",
      "409  2020          1  Capital Federal                 44.024082\n",
      "433  2019          4  Capital Federal                 44.187054\n",
      "457  2019          3  Capital Federal                 46.904771\n",
      "481  2019          2  Capital Federal                 46.085926\n",
      "505  2019          1  Capital Federal                 45.579184\n",
      "529  2018          4  Capital Federal                 45.249314\n",
      "553  2018          3  Capital Federal                 45.377092\n",
      "577  2018          2  Capital Federal                 44.632578\n",
      "601  2018          1  Capital Federal                 44.562961\n",
      "625  2017          4  Capital Federal                 51.616721\n",
      "649  2017          3  Capital Federal                 51.244450\n",
      "673  2017          2  Capital Federal                 52.236739\n",
      "697  2017          1  Capital Federal                 45.687715\n",
      "721  2016          4  Capital Federal                 45.783738\n",
      "745  2016          3  Capital Federal                 45.854720\n",
      "769  2016          2  Capital Federal                 45.593757\n",
      "793  2016          1  Capital Federal                 43.757784\n",
      "817  2015          4  Capital Federal                 44.832984\n",
      "841  2015          3  Capital Federal                 44.911092\n",
      "865  2015          2  Capital Federal                 44.084854\n",
      "889  2015          1  Capital Federal                 43.658725\n",
      "913  2014          4  Capital Federal                 43.604621\n",
      "937  2014          3  Capital Federal                 43.206400\n",
      "961  2014          2  Capital Federal                 42.974777\n",
      "985  2014          1  Capital Federal                 42.655072\n"
     ]
    },
    {
     "data": {
      "image/png": "[encoded data removed]",
      "text/plain": [
       "<Figure size 1200x600 with 1 Axes>"
      ]
     },
     "metadata": {},
     "output_type": "display_data"
    }
   ],
   "source": [
    "# Cargar el archivo\n",
    "ruta = r'C:\\Users\\NOTEBOOK\\Desktop\\Proyecto_ConectandoArgentina\\Datasets\\Penetración-poblacion.csv'\n",
    "df_poblacion = pd.read_csv(ruta)\n",
    "\n",
    "# Calcular los cuartiles y límites para detectar outliers\n",
    "q1 = df_poblacion['Accesos por cada 100 hab'].quantile(0.25)\n",
    "q3 = df_poblacion['Accesos por cada 100 hab'].quantile(0.75)\n",
    "iqr = q3 - q1\n",
    "limite_inferior = q1 - 1.5 * iqr\n",
    "limite_superior = q3 + 1.5 * iqr\n",
    "\n",
    "# Identificar outliers\n",
    "outliers = df_poblacion[(df_poblacion['Accesos por cada 100 hab'] < limite_inferior) | \n",
    "                        (df_poblacion['Accesos por cada 100 hab'] > limite_superior)]\n",
    "\n",
    "# Mostrar los outliers\n",
    "print(\"* Outliers identificados:\")\n",
    "print(outliers)\n",
    "\n",
    "# Visualizar los datos y los outliers\n",
    "plt.figure(figsize=(12, 6))\n",
    "sns.boxplot(x='Provincia', y='Accesos por cada 100 hab', data=df_poblacion, palette='Set3')\n",
    "plt.axhline(limite_inferior, color='red', linestyle='--', label='Límite inferior')\n",
    "plt.axhline(limite_superior, color='blue', linestyle='--', label='Límite superior')\n",
    "plt.title('Distribución de accesos por provincia (con outliers)')\n",
    "plt.xticks(rotation=90)\n",
    "plt.legend()\n",
    "plt.show()\n"
   ]
  },
  {
   "cell_type": "markdown",
   "metadata": {},
   "source": [
    "#### **Análisis del Gráfico Boxplot para Detección de Outliers**  \n",
    "El **boxplot** revela **outliers** en provincias como **Capital Federal** y **Santa Cruz**, que podrían deberse a mejoras en infraestructura o políticas específicas. **San Luis** muestra variabilidad en los accesos, pero dentro de los límites normales. Por otro lado, provincias como **Formosa**, **Jujuy** y **Santa Fe** tienen distribuciones estables y sin outliers, lo que sugiere una cobertura más homogénea. En general, los outliers reflejan desigualdades en el acceso y oportunidades de mejora, mientras que las provincias estables podrían necesitar estrategias diferenciadas para reducir las brechas de conectividad."
   ]
  },
  {
   "cell_type": "markdown",
   "metadata": {},
   "source": [
    "#### **Conclusiones Finales de EDA**  \n",
    "En el análisis exploratorio de datos, identifiqué tendencias y relaciones importantes entre las variables. Detecté outliers en algunas provincias, como Capital Federal y Santa Cruz, que podrían estar relacionados con eventos puntuales o avances en infraestructura. También observé una variabilidad marcada en ciertas provincias, mientras que otras mostraron distribuciones más estables. En general, los datos han sido preparados adecuadamente y están listos para continuar con el análisis detallado en etapas posteriores."
   ]
  },
  {
   "cell_type": "markdown",
   "metadata": {},
   "source": [
    "####  **Guardar el DataFrame limpio en otra carpeta** "
   ]
  },
  {
   "cell_type": "code",
   "execution_count": 33,
   "metadata": {},
   "outputs": [
    {
     "name": "stdout",
     "output_type": "stream",
     "text": [
      "Archivo guardado en: C:\\Users\\NOTEBOOK\\Desktop\\Proyecto_ConectandoArgentina\\Datasets\\DatasetsLimpios\\Penetración-poblacion.csv\n"
     ]
    }
   ],
   "source": [
    "# Cargar el archivo CSV en un DataFrame\n",
    "ruta = r'C:\\Users\\NOTEBOOK\\Desktop\\Proyecto_ConectandoArgentina\\Datasets\\Penetración-poblacion.csv'\n",
    "df_poblacion = pd.read_csv(ruta)\n",
    "\n",
    "# Definir la nueva ruta de guardado, manteniendo el mismo nombre del archivo\n",
    "output_path_poblacion = r'C:\\Users\\NOTEBOOK\\Desktop\\Proyecto_ConectandoArgentina\\Datasets\\DatasetsLimpios\\Penetración-poblacion.csv'\n",
    "\n",
    "# Guardar el DataFrame 'df_poblacion' como un archivo CSV en la nueva ruta\n",
    "df_poblacion.to_csv(output_path_poblacion, index=False)\n",
    "\n",
    "# Confirmar que el archivo fue guardado correctamente\n",
    "print(f'Archivo guardado en: {output_path_poblacion}')"
   ]
  },
  {
   "cell_type": "markdown",
   "metadata": {},
   "source": [
    "#### **Totales Accesos Por Tecnología.csv**"
   ]
  },
  {
   "cell_type": "code",
   "execution_count": 34,
   "metadata": {},
   "outputs": [
    {
     "name": "stdout",
     "output_type": "stream",
     "text": [
      "* Primeras filas del archivo:\n"
     ]
    },
    {
     "data": {
      "text/html": [
       "<div>\n",
       "<style scoped>\n",
       "    .dataframe tbody tr th:only-of-type {\n",
       "        vertical-align: middle;\n",
       "    }\n",
       "\n",
       "    .dataframe tbody tr th {\n",
       "        vertical-align: top;\n",
       "    }\n",
       "\n",
       "    .dataframe thead th {\n",
       "        text-align: right;\n",
       "    }\n",
       "</style>\n",
       "<table border=\"1\" class=\"dataframe\">\n",
       "  <thead>\n",
       "    <tr style=\"text-align: right;\">\n",
       "      <th></th>\n",
       "      <th>Año</th>\n",
       "      <th>Trimestre</th>\n",
       "      <th>ADSL</th>\n",
       "      <th>Cablemodem</th>\n",
       "      <th>Fibra óptica</th>\n",
       "      <th>Wireless</th>\n",
       "      <th>Otros</th>\n",
       "      <th>Total</th>\n",
       "      <th>Periodo</th>\n",
       "    </tr>\n",
       "  </thead>\n",
       "  <tbody>\n",
       "    <tr>\n",
       "      <th>0</th>\n",
       "      <td>2024</td>\n",
       "      <td>2</td>\n",
       "      <td>733491</td>\n",
       "      <td>5867504</td>\n",
       "      <td>4169958</td>\n",
       "      <td>593197</td>\n",
       "      <td>191957</td>\n",
       "      <td>11556107</td>\n",
       "      <td>Abr-Jun 2024</td>\n",
       "    </tr>\n",
       "    <tr>\n",
       "      <th>1</th>\n",
       "      <td>2024</td>\n",
       "      <td>1</td>\n",
       "      <td>774475</td>\n",
       "      <td>5986957</td>\n",
       "      <td>4015101</td>\n",
       "      <td>598682</td>\n",
       "      <td>257941</td>\n",
       "      <td>11633156</td>\n",
       "      <td>Ene-Mar 2024</td>\n",
       "    </tr>\n",
       "    <tr>\n",
       "      <th>2</th>\n",
       "      <td>2023</td>\n",
       "      <td>4</td>\n",
       "      <td>836390</td>\n",
       "      <td>6022532</td>\n",
       "      <td>3908183</td>\n",
       "      <td>585760</td>\n",
       "      <td>194796</td>\n",
       "      <td>11547661</td>\n",
       "      <td>Oct-Dic 2023</td>\n",
       "    </tr>\n",
       "    <tr>\n",
       "      <th>3</th>\n",
       "      <td>2023</td>\n",
       "      <td>3</td>\n",
       "      <td>897895</td>\n",
       "      <td>6018832</td>\n",
       "      <td>3708718</td>\n",
       "      <td>581436</td>\n",
       "      <td>200027</td>\n",
       "      <td>11406908</td>\n",
       "      <td>Jul-Sept 2023</td>\n",
       "    </tr>\n",
       "    <tr>\n",
       "      <th>4</th>\n",
       "      <td>2023</td>\n",
       "      <td>2</td>\n",
       "      <td>1006509</td>\n",
       "      <td>5997149</td>\n",
       "      <td>3463988</td>\n",
       "      <td>581823</td>\n",
       "      <td>202428</td>\n",
       "      <td>11251897</td>\n",
       "      <td>Abr-Jun 2023</td>\n",
       "    </tr>\n",
       "  </tbody>\n",
       "</table>\n",
       "</div>"
      ],
      "text/plain": [
       "    Año  Trimestre     ADSL  Cablemodem  Fibra óptica  Wireless   Otros  \\\n",
       "0  2024          2   733491     5867504       4169958    593197  191957   \n",
       "1  2024          1   774475     5986957       4015101    598682  257941   \n",
       "2  2023          4   836390     6022532       3908183    585760  194796   \n",
       "3  2023          3   897895     6018832       3708718    581436  200027   \n",
       "4  2023          2  1006509     5997149       3463988    581823  202428   \n",
       "\n",
       "      Total        Periodo  \n",
       "0  11556107   Abr-Jun 2024  \n",
       "1  11633156   Ene-Mar 2024  \n",
       "2  11547661   Oct-Dic 2023  \n",
       "3  11406908  Jul-Sept 2023  \n",
       "4  11251897   Abr-Jun 2023  "
      ]
     },
     "execution_count": 34,
     "metadata": {},
     "output_type": "execute_result"
    }
   ],
   "source": [
    "# Cargar el archivo\n",
    "ruta = r'C:\\Users\\NOTEBOOK\\Desktop\\Proyecto_ConectandoArgentina\\Datasets\\Totales Accesos Por Tecnología.csv'\n",
    "df_TotalesAccesos = pd.read_csv(ruta)\n",
    "\n",
    "# Ver las primeras filas\n",
    "print(\"* Primeras filas del archivo:\")\n",
    "df_TotalesAccesos.head()"
   ]
  },
  {
   "cell_type": "markdown",
   "metadata": {},
   "source": [
    "#### **Inspección inicial del dataset**"
   ]
  },
  {
   "cell_type": "code",
   "execution_count": 35,
   "metadata": {},
   "outputs": [
    {
     "name": "stdout",
     "output_type": "stream",
     "text": [
      "<class 'pandas.core.frame.DataFrame'>\n",
      "RangeIndex: 42 entries, 0 to 41\n",
      "Data columns (total 9 columns):\n",
      " #   Column        Non-Null Count  Dtype \n",
      "---  ------        --------------  ----- \n",
      " 0   Año           42 non-null     int64 \n",
      " 1   Trimestre     42 non-null     int64 \n",
      " 2   ADSL          42 non-null     int64 \n",
      " 3   Cablemodem    42 non-null     int64 \n",
      " 4   Fibra óptica  42 non-null     int64 \n",
      " 5   Wireless      42 non-null     int64 \n",
      " 6   Otros         42 non-null     int64 \n",
      " 7   Total         42 non-null     int64 \n",
      " 8   Periodo       42 non-null     object\n",
      "dtypes: int64(8), object(1)\n",
      "memory usage: 3.1+ KB\n",
      "None\n",
      "               Año  Trimestre          ADSL    Cablemodem  Fibra óptica  \\\n",
      "count    42.000000  42.000000  4.200000e+01  4.200000e+01  4.200000e+01   \n",
      "mean   2018.761905   2.452381  2.694844e+06  4.433906e+06  1.224694e+06   \n",
      "std       3.074756   1.130560  1.094347e+06  1.319783e+06  1.321136e+06   \n",
      "min    2014.000000   1.000000  7.334910e+05  2.407330e+06  1.391870e+05   \n",
      "25%    2016.000000   1.250000  1.730869e+06  3.146292e+06  1.719410e+05   \n",
      "50%    2019.000000   2.000000  3.061623e+06  4.535507e+06  6.989465e+05   \n",
      "75%    2021.000000   3.000000  3.713298e+06  5.857192e+06  1.945689e+06   \n",
      "max    2024.000000   4.000000  3.803024e+06  6.073426e+06  4.169958e+06   \n",
      "\n",
      "            Wireless          Otros         Total  \n",
      "count      42.000000      42.000000  4.200000e+01  \n",
      "mean   304293.214286  158186.071429  8.815923e+06  \n",
      "std    203202.399993   82363.507846  1.733189e+06  \n",
      "min     70749.000000   54300.000000  6.398398e+06  \n",
      "25%     85390.500000   70430.000000  7.218131e+06  \n",
      "50%    292223.000000  185221.000000  8.720658e+06  \n",
      "75%    515434.000000  244069.500000  1.038873e+07  \n",
      "max    598682.000000  265328.000000  1.163316e+07  \n"
     ]
    }
   ],
   "source": [
    "print(df_TotalesAccesos.info())  # Información general\n",
    "print(df_TotalesAccesos.describe())  # Estadísticas descriptivas"
   ]
  },
  {
   "cell_type": "markdown",
   "metadata": {},
   "source": [
    "**Análisis**: Al analizar los datos, observo que las columnas tienen tipos de datos adecuados. El conjunto de datos no requiere de eliminación o tratamiento de valores nulos ni de duplicados en este caso.\n",
    "Las estadísticas descriptivas muestran que los accesos totales oscilan entre 6.4 millones y 11.6 millones, con un promedio de aproximadamente 8.8 millones. Las tecnologías tienen distintas distribuciones, siendo la Fibra óptica la que presenta una mayor variabilidad. El año de los registros abarca de 2014 a 2024."
   ]
  },
  {
   "cell_type": "code",
   "execution_count": 36,
   "metadata": {},
   "outputs": [
    {
     "name": "stdout",
     "output_type": "stream",
     "text": [
      "No se encontraron filas duplicadas.\n"
     ]
    }
   ],
   "source": [
    "# Verificar duplicados\n",
    "duplicados = df_TotalesAccesos.duplicated().sum()\n",
    "\n",
    "if duplicados > 0:\n",
    "    print(f\"Se encontraron {duplicados} filas duplicadas.\")\n",
    "else:\n",
    "    print(\"No se encontraron filas duplicadas.\")\n"
   ]
  },
  {
   "cell_type": "markdown",
   "metadata": {},
   "source": [
    "#### **Detectar y visualizar outliers**"
   ]
  },
  {
   "cell_type": "code",
   "execution_count": 37,
   "metadata": {},
   "outputs": [
    {
     "data": {
      "image/png": "[encoded data removed]",
      "text/plain": [
       "<Figure size 1500x800 with 6 Axes>"
      ]
     },
     "metadata": {},
     "output_type": "display_data"
    }
   ],
   "source": [
    "# Definir las columnas que deseas graficar\n",
    "columnas = ['ADSL', 'Cablemodem', 'Fibra óptica', 'Wireless', 'Otros', 'Total']\n",
    "\n",
    "# Crear un conjunto de subgráficos (2 filas por 3 columnas)\n",
    "fig, axes = plt.subplots(2, 3, figsize=(15, 8))\n",
    "\n",
    "# Iterar sobre las columnas y los subgráficos\n",
    "for i, col in enumerate(columnas):\n",
    "    ax = axes[i // 3, i % 3]  # Seleccionar la ubicación del subgráfico\n",
    "    sns.boxplot(x=df_TotalesAccesos[col], ax=ax)\n",
    "    ax.set_title(f'Boxplot de {col}')\n",
    "\n",
    "# Ajustar la disposición para evitar que se solapen\n",
    "plt.tight_layout()\n",
    "plt.show()\n",
    "\n"
   ]
  },
  {
   "cell_type": "markdown",
   "metadata": {},
   "source": [
    "**Análisis**: Analicé outliers en ADSL, Cablemodem, Fibra Óptica, Wireless, Otros y Total mediante boxplots. No identifiqué valores extremos visuales, ya que los bigotes están dentro de rangos razonables. Continuaré verificando con estadísticas descriptivas (IQR) para confirmar y decidir si es necesario tratarlos."
   ]
  },
  {
   "cell_type": "markdown",
   "metadata": {},
   "source": [
    "#### **Calcular estadísticas descriptivas y detectar outliers**"
   ]
  },
  {
   "cell_type": "code",
   "execution_count": 38,
   "metadata": {},
   "outputs": [
    {
     "name": "stdout",
     "output_type": "stream",
     "text": [
      "               ADSL    Cablemodem  Fibra óptica       Wireless          Otros  \\\n",
      "count  4.200000e+01  4.200000e+01  4.200000e+01      42.000000      42.000000   \n",
      "mean   2.694844e+06  4.433906e+06  1.224694e+06  304293.214286  158186.071429   \n",
      "std    1.094347e+06  1.319783e+06  1.321136e+06  203202.399993   82363.507846   \n",
      "min    7.334910e+05  2.407330e+06  1.391870e+05   70749.000000   54300.000000   \n",
      "25%    1.730869e+06  3.146292e+06  1.719410e+05   85390.500000   70430.000000   \n",
      "50%    3.061623e+06  4.535507e+06  6.989465e+05  292223.000000  185221.000000   \n",
      "75%    3.713298e+06  5.857192e+06  1.945689e+06  515434.000000  244069.500000   \n",
      "max    3.803024e+06  6.073426e+06  4.169958e+06  598682.000000  265328.000000   \n",
      "\n",
      "              Total  \n",
      "count  4.200000e+01  \n",
      "mean   8.815923e+06  \n",
      "std    1.733189e+06  \n",
      "min    6.398398e+06  \n",
      "25%    7.218131e+06  \n",
      "50%    8.720658e+06  \n",
      "75%    1.038873e+07  \n",
      "max    1.163316e+07  \n",
      "\n",
      "Número de outliers por columna:\n",
      "ADSL            0\n",
      "Cablemodem      0\n",
      "Fibra óptica    0\n",
      "Wireless        0\n",
      "Otros           0\n",
      "Total           0\n",
      "dtype: int64\n"
     ]
    }
   ],
   "source": [
    "# Calcular cuartiles y el IQR para cada columna\n",
    "stats = df_TotalesAccesos[columnas].describe()\n",
    "\n",
    "# Calcular el IQR\n",
    "Q1 = stats.loc['25%']\n",
    "Q3 = stats.loc['75%']\n",
    "IQR = Q3 - Q1\n",
    "\n",
    "# Detectar outliers: valores menores a Q1 - 1.5*IQR o mayores a Q3 + 1.5*IQR\n",
    "lower_bound = Q1 - 1.5 * IQR\n",
    "upper_bound = Q3 + 1.5 * IQR\n",
    "\n",
    "# Identificar outliers\n",
    "outliers = (df_TotalesAccesos[columnas] < lower_bound) | (df_TotalesAccesos[columnas] > upper_bound)\n",
    "\n",
    "# Mostrar los outliers para cada columna\n",
    "outliers_count = outliers.sum()\n",
    "\n",
    "# Mostrar estadísticas descriptivas y número de outliers\n",
    "print(stats)\n",
    "print(\"\\nNúmero de outliers por columna:\")\n",
    "print(outliers_count)\n"
   ]
  },
  {
   "cell_type": "markdown",
   "metadata": {},
   "source": [
    "**Análisis**: He calculado las estadísticas descriptivas para las columnas ADSL, Cablemodem, Fibra óptica, Wireless, Otros y Total. Para confirmar si había outliers, utilicé los cuartiles y el rango intercuartil (IQR). Al hacerlo, observé que no existen valores fuera de los límites definidos por el IQR en ninguna de estas columnas. Esto significa que no hay outliers en los datos."
   ]
  },
  {
   "cell_type": "markdown",
   "metadata": {},
   "source": [
    "#### **Conclusiones Finales de EDA**  \n",
    "En el análisis exploratorio de datos, observé que las variables ADSL, Cablemodem, Fibra óptica, Wireless, Otros y Total no presentan outliers significativos. Las distribuciones de estas variables resultaron ser consistentes y los boxplots no evidenciaron valores extremos. Además, los cálculos del rango intercuartílico (IQR) confirmaron la ausencia de outliers. Por lo tanto, los datos han sido limpiados y se encuentran en condiciones adecuadas para proceder con el análisis posterior."
   ]
  },
  {
   "cell_type": "markdown",
   "metadata": {},
   "source": [
    "####  **Guardar el DataFrame limpio en otra carpeta** "
   ]
  },
  {
   "cell_type": "code",
   "execution_count": 39,
   "metadata": {},
   "outputs": [
    {
     "name": "stdout",
     "output_type": "stream",
     "text": [
      "Archivo guardado en: C:\\Users\\NOTEBOOK\\Desktop\\Proyecto_ConectandoArgentina\\Datasets\\DatasetsLimpios\\Totales Accesos Por Tecnología.csv\n"
     ]
    }
   ],
   "source": [
    "# Cargar el archivo CSV en un DataFrame\n",
    "ruta = r'C:\\Users\\NOTEBOOK\\Desktop\\Proyecto_ConectandoArgentina\\Datasets\\Totales Accesos Por Tecnología.csv'\n",
    "df_TotalesAccesos = pd.read_csv(ruta)\n",
    "\n",
    "# Definir la nueva ruta de guardado, manteniendo el mismo nombre del archivo\n",
    "output_path_TotalesAccesos = r'C:\\Users\\NOTEBOOK\\Desktop\\Proyecto_ConectandoArgentina\\Datasets\\DatasetsLimpios\\Totales Accesos Por Tecnología.csv'\n",
    "\n",
    "# Guardar el DataFrame 'df_TotalesAccesos' como un archivo CSV en la nueva ruta\n",
    "df_TotalesAccesos.to_csv(output_path_TotalesAccesos, index=False)\n",
    "\n",
    "# Confirmar que el archivo fue guardado correctamente\n",
    "print(f'Archivo guardado en: {output_path_TotalesAccesos}')"
   ]
  },
  {
   "cell_type": "markdown",
   "metadata": {},
   "source": [
    "#### **Ingresos .csv**"
   ]
  },
  {
   "cell_type": "code",
   "execution_count": 40,
   "metadata": {},
   "outputs": [
    {
     "name": "stdout",
     "output_type": "stream",
     "text": [
      "* Primeras filas del archivo:\n"
     ]
    },
    {
     "data": {
      "text/html": [
       "<div>\n",
       "<style scoped>\n",
       "    .dataframe tbody tr th:only-of-type {\n",
       "        vertical-align: middle;\n",
       "    }\n",
       "\n",
       "    .dataframe tbody tr th {\n",
       "        vertical-align: top;\n",
       "    }\n",
       "\n",
       "    .dataframe thead th {\n",
       "        text-align: right;\n",
       "    }\n",
       "</style>\n",
       "<table border=\"1\" class=\"dataframe\">\n",
       "  <thead>\n",
       "    <tr style=\"text-align: right;\">\n",
       "      <th></th>\n",
       "      <th>Año</th>\n",
       "      <th>Trimestre</th>\n",
       "      <th>Ingresos (miles de pesos)</th>\n",
       "      <th>Periodo</th>\n",
       "    </tr>\n",
       "  </thead>\n",
       "  <tbody>\n",
       "    <tr>\n",
       "      <th>0</th>\n",
       "      <td>2024</td>\n",
       "      <td>2</td>\n",
       "      <td>4.420322e+08</td>\n",
       "      <td>Abr-Jun 2024</td>\n",
       "    </tr>\n",
       "    <tr>\n",
       "      <th>1</th>\n",
       "      <td>2024</td>\n",
       "      <td>1</td>\n",
       "      <td>3.461990e+08</td>\n",
       "      <td>Ene-Mar 2024</td>\n",
       "    </tr>\n",
       "    <tr>\n",
       "      <th>2</th>\n",
       "      <td>2023</td>\n",
       "      <td>4</td>\n",
       "      <td>1.673760e+08</td>\n",
       "      <td>Oct-Dic 2023</td>\n",
       "    </tr>\n",
       "    <tr>\n",
       "      <th>3</th>\n",
       "      <td>2023</td>\n",
       "      <td>3</td>\n",
       "      <td>1.331066e+08</td>\n",
       "      <td>Jul-Sept 2023</td>\n",
       "    </tr>\n",
       "    <tr>\n",
       "      <th>4</th>\n",
       "      <td>2023</td>\n",
       "      <td>2</td>\n",
       "      <td>1.180603e+08</td>\n",
       "      <td>Jun-Mar 2023</td>\n",
       "    </tr>\n",
       "  </tbody>\n",
       "</table>\n",
       "</div>"
      ],
      "text/plain": [
       "    Año  Trimestre  Ingresos (miles de pesos)        Periodo\n",
       "0  2024          2               4.420322e+08   Abr-Jun 2024\n",
       "1  2024          1               3.461990e+08   Ene-Mar 2024\n",
       "2  2023          4               1.673760e+08   Oct-Dic 2023\n",
       "3  2023          3               1.331066e+08  Jul-Sept 2023\n",
       "4  2023          2               1.180603e+08   Jun-Mar 2023"
      ]
     },
     "execution_count": 40,
     "metadata": {},
     "output_type": "execute_result"
    }
   ],
   "source": [
    "# Cargar el archivo\n",
    "ruta = r'C:\\Users\\NOTEBOOK\\Desktop\\Proyecto_ConectandoArgentina\\Datasets\\Ingresos .csv'\n",
    "df_ingresos = pd.read_csv(ruta)\n",
    "\n",
    "# Ver las primeras filas\n",
    "print(\"* Primeras filas del archivo:\")\n",
    "df_ingresos.head()"
   ]
  },
  {
   "cell_type": "markdown",
   "metadata": {},
   "source": [
    "#### **Inspección inicial del dataset**"
   ]
  },
  {
   "cell_type": "code",
   "execution_count": 41,
   "metadata": {},
   "outputs": [
    {
     "name": "stdout",
     "output_type": "stream",
     "text": [
      "<class 'pandas.core.frame.DataFrame'>\n",
      "RangeIndex: 42 entries, 0 to 41\n",
      "Data columns (total 4 columns):\n",
      " #   Column                     Non-Null Count  Dtype  \n",
      "---  ------                     --------------  -----  \n",
      " 0   Año                        42 non-null     int64  \n",
      " 1   Trimestre                  42 non-null     int64  \n",
      " 2   Ingresos (miles de pesos)  42 non-null     float64\n",
      " 3   Periodo                    42 non-null     object \n",
      "dtypes: float64(1), int64(2), object(1)\n",
      "memory usage: 1.4+ KB\n",
      "None\n",
      "               Año  Trimestre  Ingresos (miles de pesos)\n",
      "count    42.000000  42.000000               4.200000e+01\n",
      "mean   2019.000000   2.452381               5.001648e+07\n",
      "std       3.728597   1.130560               8.710208e+07\n",
      "min    2014.000000   1.000000               2.984054e+06\n",
      "25%    2016.000000   1.250000               7.055326e+06\n",
      "50%    2019.000000   2.000000               2.047527e+07\n",
      "75%    2021.000000   3.000000               4.485090e+07\n",
      "max    2033.000000   4.000000               4.420322e+08\n"
     ]
    }
   ],
   "source": [
    "print(df_ingresos.info())  # Información general\n",
    "print(df_ingresos.describe())  # Estadísticas descriptivas"
   ]
  },
  {
   "cell_type": "markdown",
   "metadata": {},
   "source": [
    "**Análisis:** El DataFrame contiene 42 registros de ingresos trimestrales de una empresa, con datos entre 2014 y 2033. Los ingresos varían considerablemente, con una media de aproximadamente 50 millones de pesos y una desviación estándar alta, lo que indica variabilidad. Los trimestres cubren de forma uniforme todos los valores, con la mayoría de los registros entre 2016 y 2021. No hay valores nulos, lo que facilita un análisis sin necesidad de limpieza adicional."
   ]
  },
  {
   "cell_type": "code",
   "execution_count": 42,
   "metadata": {},
   "outputs": [
    {
     "name": "stdout",
     "output_type": "stream",
     "text": [
      "No se encontraron filas duplicadas.\n"
     ]
    }
   ],
   "source": [
    "# Verificar duplicados\n",
    "duplicados = df_poblacion.duplicated().sum()\n",
    "\n",
    "if duplicados > 0:\n",
    "    print(f\"Se encontraron {duplicados} filas duplicadas.\")\n",
    "else:\n",
    "    print(\"No se encontraron filas duplicadas.\")\n"
   ]
  },
  {
   "cell_type": "markdown",
   "metadata": {},
   "source": [
    "#### **Detectar y visualizar outliers**  \n",
    "Para detectar outliers en \"Ingresos (miles de pesos)\", calculo los cuartiles (Q1, Q3) y el rango intercuartílico (IQR), y luego defino los límites inferior y superior (1.5 * IQR) para identificar los valores fuera de ese rango."
   ]
  },
  {
   "cell_type": "code",
   "execution_count": 43,
   "metadata": {},
   "outputs": [
    {
     "name": "stdout",
     "output_type": "stream",
     "text": [
      "    Año  Trimestre  Ingresos (miles de pesos)        Periodo\n",
      "0  2024          2               4.420322e+08   Abr-Jun 2024\n",
      "1  2024          1               3.461990e+08   Ene-Mar 2024\n",
      "2  2023          4               1.673760e+08   Oct-Dic 2023\n",
      "3  2023          3               1.331066e+08  Jul-Sept 2023\n",
      "4  2023          2               1.180603e+08   Jun-Mar 2023\n",
      "5  2033          1               1.041350e+08   Ene-Mar 2023\n"
     ]
    }
   ],
   "source": [
    "Q1 = df_ingresos['Ingresos (miles de pesos)'].quantile(0.25)\n",
    "Q3 = df_ingresos['Ingresos (miles de pesos)'].quantile(0.75)\n",
    "IQR = Q3 - Q1\n",
    "limite_inferior = Q1 - 1.5 * IQR\n",
    "limite_superior = Q3 + 1.5 * IQR\n",
    "outliers = df_ingresos[(df_ingresos['Ingresos (miles de pesos)'] < limite_inferior) | (df_ingresos['Ingresos (miles de pesos)'] > limite_superior)]\n",
    "\n",
    "# Mostrar los outliers\n",
    "print(outliers)"
   ]
  },
  {
   "cell_type": "markdown",
   "metadata": {},
   "source": [
    "**Análisis**: Veo un error en los datos, en la última fila, el año 2033 esto podría ser un error tipográfico y debería corregirse a 2023. Parece un outlier, y el periodo \"Jun-Mar 2023\" no corresponde a un trimestre válido. Debería corregir ambos problemas. "
   ]
  },
  {
   "cell_type": "markdown",
   "metadata": {},
   "source": [
    "#### **Corregir errores de escritura**"
   ]
  },
  {
   "cell_type": "code",
   "execution_count": 44,
   "metadata": {},
   "outputs": [
    {
     "data": {
      "text/html": [
       "<div>\n",
       "<style scoped>\n",
       "    .dataframe tbody tr th:only-of-type {\n",
       "        vertical-align: middle;\n",
       "    }\n",
       "\n",
       "    .dataframe tbody tr th {\n",
       "        vertical-align: top;\n",
       "    }\n",
       "\n",
       "    .dataframe thead th {\n",
       "        text-align: right;\n",
       "    }\n",
       "</style>\n",
       "<table border=\"1\" class=\"dataframe\">\n",
       "  <thead>\n",
       "    <tr style=\"text-align: right;\">\n",
       "      <th></th>\n",
       "      <th>Año</th>\n",
       "      <th>Trimestre</th>\n",
       "      <th>Ingresos (miles de pesos)</th>\n",
       "      <th>Periodo</th>\n",
       "    </tr>\n",
       "  </thead>\n",
       "  <tbody>\n",
       "    <tr>\n",
       "      <th>0</th>\n",
       "      <td>2024</td>\n",
       "      <td>2</td>\n",
       "      <td>4.420322e+08</td>\n",
       "      <td>Abr-Jun 2024</td>\n",
       "    </tr>\n",
       "    <tr>\n",
       "      <th>1</th>\n",
       "      <td>2024</td>\n",
       "      <td>1</td>\n",
       "      <td>3.461990e+08</td>\n",
       "      <td>Ene-Mar 2024</td>\n",
       "    </tr>\n",
       "    <tr>\n",
       "      <th>2</th>\n",
       "      <td>2023</td>\n",
       "      <td>4</td>\n",
       "      <td>1.673760e+08</td>\n",
       "      <td>Oct-Dic 2023</td>\n",
       "    </tr>\n",
       "    <tr>\n",
       "      <th>3</th>\n",
       "      <td>2023</td>\n",
       "      <td>3</td>\n",
       "      <td>1.331066e+08</td>\n",
       "      <td>Jul-Sept 2023</td>\n",
       "    </tr>\n",
       "    <tr>\n",
       "      <th>4</th>\n",
       "      <td>2023</td>\n",
       "      <td>2</td>\n",
       "      <td>1.180603e+08</td>\n",
       "      <td>Abr-Jun 2023</td>\n",
       "    </tr>\n",
       "  </tbody>\n",
       "</table>\n",
       "</div>"
      ],
      "text/plain": [
       "    Año  Trimestre  Ingresos (miles de pesos)        Periodo\n",
       "0  2024          2               4.420322e+08   Abr-Jun 2024\n",
       "1  2024          1               3.461990e+08   Ene-Mar 2024\n",
       "2  2023          4               1.673760e+08   Oct-Dic 2023\n",
       "3  2023          3               1.331066e+08  Jul-Sept 2023\n",
       "4  2023          2               1.180603e+08   Abr-Jun 2023"
      ]
     },
     "execution_count": 44,
     "metadata": {},
     "output_type": "execute_result"
    }
   ],
   "source": [
    "# Corregir año fuera de rango\n",
    "df_ingresos.loc[df_ingresos['Año'] > 2024, 'Año'] = 2023\n",
    "\n",
    "# Verificar y corregir periodos no válidos\n",
    "df_ingresos['Periodo'] = df_ingresos['Periodo'].replace({'Jun-Mar 2023': 'Abr-Jun 2023'})\n",
    "\n",
    "# Revisar los resultados\n",
    "df_ingresos.head()"
   ]
  },
  {
   "cell_type": "markdown",
   "metadata": {},
   "source": [
    "**Análisis:** Al comparar los ingresos de 2023 y 2024 con la media general de 50,016,480 pesos, observo que ambos años destacan significativamente. En 2023, los ingresos en los trimestres reportados están muy por encima de la media: Oct-Dic alcanza 167,376,000 pesos (3.35 veces la media), Jul-Sep llega a 133,106,600 pesos (2.66 veces la media) y Abr-Jun registra 118,060,300 pesos (2.36 veces la media). Esto refleja un crecimiento sostenido en este período.\n",
    "\n",
    "En 2024, el incremento es aún más notable. En Ene-Mar los ingresos suman 346,199,000 pesos (6.92 veces la media) y en Abr-Jun ascienden a 442,032,200 pesos (8.83 veces la media). Esto evidencia un salto excepcional respecto a 2023 y al promedio histórico.\n",
    "\n",
    "Concluyo que los años 2023 y 2024 marcan un crecimiento extraordinario, especialmente 2024, que muestra un avance acelerado. Es posible que este comportamiento esté relacionado con factores específicos, como la expansión de operaciones o cambios en el mercado."
   ]
  },
  {
   "cell_type": "markdown",
   "metadata": {},
   "source": [
    "#### **Gráfico de barras que muestra la evolución de los ingresos por período.**"
   ]
  },
  {
   "cell_type": "code",
   "execution_count": 45,
   "metadata": {},
   "outputs": [
    {
     "data": {
      "image/png": "[encoded data removed]",
      "text/plain": [
       "<Figure size 1200x600 with 1 Axes>"
      ]
     },
     "metadata": {},
     "output_type": "display_data"
    }
   ],
   "source": [
    "# Ordenar los datos por año y trimestre\n",
    "df_ingresos = df_ingresos.sort_values(by=['Año', 'Trimestre'])\n",
    "\n",
    "# Gráfico de barras: Evolución de ingresos por período\n",
    "plt.figure(figsize=(12, 6))\n",
    "sns.barplot(data=df_ingresos, x='Periodo', y='Ingresos (miles de pesos)', palette='viridis')\n",
    "plt.xticks(rotation=90)\n",
    "plt.title('Evolución de los ingresos por período')\n",
    "plt.xlabel('Período')\n",
    "plt.ylabel('Ingresos (miles de pesos)')\n",
    "plt.show()"
   ]
  },
  {
   "cell_type": "markdown",
   "metadata": {},
   "source": [
    "**Conclusión**: El gráfico ilustra un crecimiento sobresaliente en los ingresos en 2023 y un aumento acelerado en 2024. Estos resultados podrían estar impulsados por factores clave específicos que podrían ser analizados con mayor detalle para comprender mejor la causa de este salto."
   ]
  },
  {
   "cell_type": "markdown",
   "metadata": {},
   "source": [
    "#### **Visualizar los outliers con un boxplot**"
   ]
  },
  {
   "cell_type": "code",
   "execution_count": 46,
   "metadata": {},
   "outputs": [
    {
     "data": {
      "image/png": "[encoded data removed]",
      "text/plain": [
       "<Figure size 1000x600 with 1 Axes>"
      ]
     },
     "metadata": {},
     "output_type": "display_data"
    }
   ],
   "source": [
    "# Visualizar los outliers con un boxplot para 'Ingresos (miles de pesos)'\n",
    "plt.figure(figsize=(10, 6))\n",
    "plt.boxplot(df_ingresos['Ingresos (miles de pesos)'], vert=False)\n",
    "plt.title('Boxplot de Ingresos (miles de pesos)')\n",
    "plt.xlabel('Ingresos (miles de pesos)')\n",
    "plt.show()\n"
   ]
  },
  {
   "cell_type": "markdown",
   "metadata": {},
   "source": [
    "**Análisis**: Al observar los outliers, veo que se ubican en el extremo superior del gráfico, lo que indica que hay algunos registros con ingresos muy altos. Esto puede ser relevante porque esos valores podrían estar relacionados con ciertos eventos excepcionales o grandes empresas que tienen ingresos fuera de lo común. Es fundamental decidir si estos datos deben eliminarse, mantenerse o ser transformados para que no influyan negativamente."
   ]
  },
  {
   "cell_type": "markdown",
   "metadata": {},
   "source": [
    "#### **Impacto de la Devaluación y Ajuste de Ingresos en Argentina (2023)**  \n",
    "El aumento en los ingresos del sector telecomunicaciones en 2023 y 2024 refleja, en parte, la devaluación del peso (>50%) y la alta inflación. He ajustado los ingresos de 2014-2023 usando 2014 como base, para comparar ingresos reales y descontar efectos inflacionarios. La nueva columna **Ingresos Ajustados por Inflación** muestra estos valores corregidos para un análisis más claro."
   ]
  },
  {
   "cell_type": "code",
   "execution_count": 47,
   "metadata": {},
   "outputs": [],
   "source": [
    "# Diccionario con los índices de inflación 2014 - 2023 \n",
    "inflacion = {\n",
    "    2023: 124.4,  # Inflación anual de 2023\n",
    "    2022: 94.8,   # Inflación anual de 2022\n",
    "    2021: 50.9,   # Inflación anual de 2021\n",
    "    2020: 36.1,   # Inflación anual de 2020\n",
    "    2019: 53.5,   # Inflación anual de 2019\n",
    "    2018: 47.6,   # Inflación anual de 2018\n",
    "    2017: 24.8,   # Inflación anual de 2017\n",
    "    2016: 41.5,   # Inflación anual de 2016\n",
    "    2015: 26.9,   # Inflación anual de 2015\n",
    "    2014: 38.5    # Inflación anual de 2014\n",
    "}\n",
    "\n",
    "# Se ajustan los ingresos por inflación (suponiendo que 2014 es el año base)\n",
    "def ajustar_por_inflacion(columna, inflacion, anio_base=2014):\n",
    "    anio = columna['Año']  # Columna que contiene el año\n",
    "    inflacion_base = inflacion[anio_base]\n",
    "    \n",
    "    # Verificar si el año existe en el diccionario de inflación\n",
    "    if anio in inflacion:\n",
    "        inflacion_anio = inflacion[anio]\n",
    "        return columna['Ingresos (miles de pesos)'] * (inflacion_base / inflacion_anio)\n",
    "    else:\n",
    "        # Si no existe, devuelve el ingreso original o aplica una estrategia alternativa\n",
    "        return columna['Ingresos (miles de pesos)']  # Ajustar según convenga\n",
    "\n",
    "# Se añade una columna con los valores ajustados por inflación\n",
    "df_ingresos['Ingresos Ajustados por Inflación'] = df_ingresos.apply(ajustar_por_inflacion, axis=1, inflacion=inflacion)\n"
   ]
  },
  {
   "cell_type": "markdown",
   "metadata": {},
   "source": [
    "#### **Gráfico de áreas que compara la evolución de los ingresos originales y los ajustados por inflación en distintos periodos.**"
   ]
  },
  {
   "cell_type": "code",
   "execution_count": 48,
   "metadata": {},
   "outputs": [
    {
     "data": {
      "image/png": "[encoded data removed]",
      "text/plain": [
       "<Figure size 1000x600 with 1 Axes>"
      ]
     },
     "metadata": {},
     "output_type": "display_data"
    }
   ],
   "source": [
    "# Crear una figura y graficar las áreas de ingresos originales y ajustados\n",
    "plt.figure(figsize=(10, 6))\n",
    "\n",
    "# Graficar los ingresos originales y ajustados por inflación\n",
    "plt.fill_between(df_ingresos['Periodo'], df_ingresos['Ingresos (miles de pesos)'], label='Ingresos Originales', alpha=0.6, color='blue')\n",
    "plt.fill_between(df_ingresos['Periodo'], df_ingresos['Ingresos Ajustados por Inflación'], label='Ingresos Ajustados por Inflación', alpha=0.4, color='orange')\n",
    "\n",
    "# Personalizar el gráfico\n",
    "plt.title('Evolución de Ingresos Originales y Ajustados por Inflación')\n",
    "plt.xlabel('Periodo')\n",
    "plt.ylabel('Ingresos (miles de pesos)')\n",
    "plt.xticks(rotation=45)\n",
    "plt.legend()\n",
    "plt.grid(axis='y', linestyle='--', alpha=0.7)\n",
    "\n",
    "# Ajustar la disposición y mostrar el gráfico\n",
    "plt.tight_layout()\n",
    "plt.show()\n"
   ]
  },
  {
   "cell_type": "markdown",
   "metadata": {},
   "source": [
    "**Análisis**: El gráfico muestra que los ingresos nominales en el sector telecomunicaciones en Argentina crecieron notablemente, pero al ajustarlos por inflación, el crecimiento real es más modesto. Esto indica que el aumento se debe principalmente a la inflación y la devaluación del peso, más que a un crecimiento genuino. Para los KPIs, es clave medir los ingresos reales ajustados, ya que reflejan mejor la situación económica y ayudan a definir metas más realistas."
   ]
  },
  {
   "cell_type": "markdown",
   "metadata": {},
   "source": [
    "\n",
    "### **Detección de Outliers**\n",
    "Podemos analizar los outliers en la columna de ingresos ajustados utilizando un boxplot para identificar visualmente los valores extremos. "
   ]
  },
  {
   "cell_type": "code",
   "execution_count": 49,
   "metadata": {},
   "outputs": [
    {
     "data": {
      "image/png": "[encoded data removed]",
      "text/plain": [
       "<Figure size 800x600 with 1 Axes>"
      ]
     },
     "metadata": {},
     "output_type": "display_data"
    }
   ],
   "source": [
    "# Crear el boxplot para los ingresos ajustados\n",
    "plt.figure(figsize=(8, 6))\n",
    "sns.boxplot(data=df_ingresos, x='Ingresos Ajustados por Inflación')\n",
    "\n",
    "# Personalizar el gráfico\n",
    "plt.title('Boxplot de Ingresos Ajustados por Inflación')\n",
    "plt.xlabel('Ingresos Ajustados (miles de pesos)')\n",
    "\n",
    "# Mostrar el gráfico\n",
    "plt.show()\n",
    "\n",
    "\n"
   ]
  },
  {
   "cell_type": "markdown",
   "metadata": {},
   "source": [
    "**Análisis del boxplot:**\n",
    "\n",
    "El boxplot muestra que la mayoría de los ingresos ajustados están concentrados en un rango estrecho, con algunos valores atípicos significativamente altos. Estos outliers indican períodos excepcionales que podrían influir en el análisis de KPIs. La mediana estable sugiere consistencia, pero los ingresos extremos deben analizarse más a fondo para entender su causa."
   ]
  },
  {
   "cell_type": "markdown",
   "metadata": {},
   "source": [
    "#### **Identificación de Outliers en los Ingresos Ajustados por Inflación**  \n",
    "Para analizar los valores atípicos y su impacto, puedo identificar y listar esos outliers."
   ]
  },
  {
   "cell_type": "code",
   "execution_count": 50,
   "metadata": {},
   "outputs": [
    {
     "name": "stdout",
     "output_type": "stream",
     "text": [
      "Valores atípicos encontrados:\n",
      "    Año  Trimestre  Ingresos (miles de pesos)       Periodo  \\\n",
      "1  2024          1               3.461990e+08  Ene-Mar 2024   \n",
      "0  2024          2               4.420322e+08  Abr-Jun 2024   \n",
      "\n",
      "   Ingresos Ajustados por Inflación  \n",
      "1                      3.461990e+08  \n",
      "0                      4.420322e+08  \n"
     ]
    }
   ],
   "source": [
    "# Calcular los límites para identificar los outliers\n",
    "q1 = df_ingresos['Ingresos Ajustados por Inflación'].quantile(0.25)\n",
    "q3 = df_ingresos['Ingresos Ajustados por Inflación'].quantile(0.75)\n",
    "iqr = q3 - q1\n",
    "limite_inferior = q1 - 1.5 * iqr\n",
    "limite_superior = q3 + 1.5 * iqr\n",
    "\n",
    "# Filtrar los outliers\n",
    "outliers = df_ingresos[(df_ingresos['Ingresos Ajustados por Inflación'] < limite_inferior) | \n",
    "                        (df_ingresos['Ingresos Ajustados por Inflación'] > limite_superior)]\n",
    "\n",
    "# Mostrar los outliers\n",
    "print(\"Valores atípicos encontrados:\")\n",
    "print(outliers)\n"
   ]
  },
  {
   "cell_type": "markdown",
   "metadata": {},
   "source": [
    "**Justificación para Conservar los Valores Atípicos**: Conservar los valores atípicos de 2024 permite reflejar de manera más realista el comportamiento del mercado, incluyendo eventos extraordinarios que pueden impactar la variación de ingresos. Aunque estos valores pueden alterar la tendencia promedio, proporcionan un panorama completo de cómo factores excepcionales afectan los resultados y ayudan a preparar estrategias que contemplen posibles fluctuaciones futuras."
   ]
  },
  {
   "cell_type": "markdown",
   "metadata": {},
   "source": [
    "#### **Conclusiones Finales de EDA**  \n",
    "En el análisis exploratorio, observé que las variables Año, Trimestre e Ingresos (miles de pesos) muestran un aumento sostenido. Detecté outliers en 2024, relacionados con eventos económicos como la devaluación. Decidí conservar estos valores atípicos para reflejar mejor la realidad económica y capturar el impacto de eventos extraordinarios en el análisis. Esto permite un entendimiento más completo de las variaciones en los ingresos y prepara mejor para futuras decisiones estratégicas. Los datos están ahora listos para análisis futuros."
   ]
  },
  {
   "cell_type": "markdown",
   "metadata": {},
   "source": [
    "####  **Guardar el DataFrame limpio en otra carpeta** "
   ]
  },
  {
   "cell_type": "code",
   "execution_count": 51,
   "metadata": {},
   "outputs": [
    {
     "name": "stdout",
     "output_type": "stream",
     "text": [
      "Archivo guardado en: C:\\Users\\NOTEBOOK\\Desktop\\Proyecto_ConectandoArgentina\\Datasets\\DatasetsLimpios\\Ingresos .csv\n"
     ]
    }
   ],
   "source": [
    "# Cargar el archivo CSV en un DataFrame\n",
    "ruta = r'C:\\Users\\NOTEBOOK\\Desktop\\Proyecto_ConectandoArgentina\\Datasets\\Ingresos .csv'\n",
    "df_ingresos = pd.read_csv(ruta)\n",
    "\n",
    "# Definir la nueva ruta de guardado, manteniendo el mismo nombre del archivo\n",
    "output_path_ingresos = r'C:\\Users\\NOTEBOOK\\Desktop\\Proyecto_ConectandoArgentina\\Datasets\\DatasetsLimpios\\Ingresos .csv'\n",
    "\n",
    "# Guardar el DataFrame 'df_ingresos' como un archivo CSV en la nueva ruta\n",
    "df_ingresos.to_csv(output_path_ingresos, index=False)\n",
    "\n",
    "# Confirmar que el archivo fue guardado correctamente\n",
    "print(f'Archivo guardado en: {output_path_ingresos}')"
   ]
  }
 ],
 "metadata": {
  "kernelspec": {
   "display_name": "Python 3",
   "language": "python",
   "name": "python3"
  },
  "language_info": {
   "codemirror_mode": {
    "name": "ipython",
    "version": 3
   },
   "file_extension": ".py",
   "mimetype": "text/x-python",
   "name": "python",
   "nbconvert_exporter": "python",
   "pygments_lexer": "ipython3",
   "version": "3.11.4"
  }
 },
 "nbformat": 4,
 "nbformat_minor": 2
}
